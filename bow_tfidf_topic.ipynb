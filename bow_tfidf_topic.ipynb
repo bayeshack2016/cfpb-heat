{
 "cells": [
  {
   "cell_type": "code",
   "execution_count": 33,
   "metadata": {
    "collapsed": true
   },
   "outputs": [],
   "source": [
    "import json, pickle\n",
    "import numpy as np\n",
    "from sklearn.feature_extraction import text\n",
    "from sklearn.decomposition import TruncatedSVD\n",
    "from sklearn.manifold import TSNE\n",
    "import matplotlib.pyplot as plt\n",
    "from sklearn.decomposition import PCA\n",
    "from scipy.spatial.distance import pdist, squareform"
   ]
  },
  {
   "cell_type": "code",
   "execution_count": 51,
   "metadata": {
    "collapsed": false
   },
   "outputs": [],
   "source": [
    "with open('results_test.json') as f:\n",
    "    tokens_mini = json.load(f)\n",
    "with open('stopwords.txt') as f:\n",
    "    stopwords = set(f.read().split())\n",
    "\n",
    "    \n",
    "reducedDim = 10"
   ]
  },
  {
   "cell_type": "code",
   "execution_count": 52,
   "metadata": {
    "collapsed": true
   },
   "outputs": [],
   "source": [
    "def get_doc_iterator(doc_token_collection, by_sentence=False, indiv_tokens = False, stemmed=False,\n",
    "                     stopwords=None, filter_fn = lambda x: True, get_key = False, skip_form_letters=False, \n",
    "                     condense_form_letters=False):\n",
    "    form_letter_appearance=set()\n",
    "    for item in doc_token_collection:\n",
    "        k = item['isFormLetter']\n",
    "        v = item['commentTextProc'] \n",
    "        names = item['complaintID']\n",
    "        if skip_form_letters:\n",
    "            if k[0:3]!=\"nfl\":\n",
    "                continue\n",
    "        if condense_form_letters:\n",
    "            if k[0:3]!=\"nfl\": \n",
    "                if k[0:3] not in form_letter_appearance:\n",
    "                    form_letter_appearance.add(k[0:3])\n",
    "                else:\n",
    "                    continue\n",
    "        if filter_fn(v):\n",
    "            idx = 2 if stemmed else 0\n",
    "            if indiv_tokens:\n",
    "                sentences = [[x[idx] for x in y if not stopwords or x[0] not in stopwords] for y in v]\n",
    "            else:\n",
    "                sentences = [' '.join([x[idx] for x in y]) for y in v]\n",
    "            if by_sentence:\n",
    "                for s in sentences:\n",
    "                    yield s\n",
    "            else:\n",
    "                if get_key:\n",
    "                    yield k\n",
    "                else:\n",
    "                    if indiv_tokens:\n",
    "                        yield list(chain(*sentences))\n",
    "                    else:\n",
    "                        yield ' '.join(sentences)\n",
    "                        "
   ]
  },
  {
   "cell_type": "code",
   "execution_count": 53,
   "metadata": {
    "collapsed": true
   },
   "outputs": [],
   "source": [
    "def get_doc_name_iterator(doc_token_collection, by_sentence=False, indiv_tokens = False, stemmed=False,\n",
    "                     stopwords=None, filter_fn = lambda x: True, get_key = False, skip_form_letters=False, \n",
    "                     condense_form_letters=False):\n",
    "    form_letter_appearance=set()\n",
    "    for item in doc_token_collection:\n",
    "        k = item['isFormLetter']\n",
    "        v = item['commentTextProc'] \n",
    "        names = item['complaintID']\n",
    "        if skip_form_letters:\n",
    "            if k[0:3]!=\"nfl\":\n",
    "                continue\n",
    "        if condense_form_letters:\n",
    "            if k[0:3]!=\"nfl\": \n",
    "                if k[0:3] not in form_letter_appearance:\n",
    "                    form_letter_appearance.add(k[0:3])\n",
    "                else:\n",
    "                    continue\n",
    "        if filter_fn(v):\n",
    "            idx = 2 if stemmed else 0\n",
    "            if indiv_tokens:\n",
    "                sentences = [[x[idx] for x in y if not stopwords or x[0] not in stopwords] for y in v]\n",
    "            else:\n",
    "                sentences = [' '.join([x[idx] for x in y]) for y in v]\n",
    "            if by_sentence:\n",
    "                for s in sentences:\n",
    "                    yield s\n",
    "            else:\n",
    "                if get_key:\n",
    "                    yield k\n",
    "                else:\n",
    "                    if indiv_tokens:\n",
    "                        yield list(chain(*sentences))\n",
    "                    else:\n",
    "                        yield (names,' '.join(sentences))\n",
    "                        "
   ]
  },
  {
   "cell_type": "code",
   "execution_count": 54,
   "metadata": {
    "collapsed": false
   },
   "outputs": [],
   "source": [
    "#BAG OF WORDS IMPL:\n"
   ]
  },
  {
   "cell_type": "code",
   "execution_count": 78,
   "metadata": {
    "collapsed": false
   },
   "outputs": [],
   "source": [
    "sklearn_doc_iterator = get_doc_iterator(tokens_mini, stopwords=['xxxx', 'xx', '00'], indiv_tokens=False, stemmed=True, condense_form_letters=True)\n",
    "count_vectorizer = text.CountVectorizer(stop_words=stopwords)\n",
    "bow_matrix = count_vectorizer.fit_transform(sklearn_doc_iterator) #returns term-document matrix\n",
    "words = np.array(count_vectorizer.get_feature_names())"
   ]
  },
  {
   "cell_type": "code",
   "execution_count": 79,
   "metadata": {
    "collapsed": false
   },
   "outputs": [
    {
     "name": "stdout",
     "output_type": "stream",
     "text": [
      "(497, 3487)\n",
      "(3487,)\n"
     ]
    },
    {
     "data": {
      "text/plain": [
       "TruncatedSVD(algorithm='randomized', n_components=10, n_iter=5,\n",
       "       random_state=None, tol=0.0)"
      ]
     },
     "execution_count": 79,
     "metadata": {},
     "output_type": "execute_result"
    }
   ],
   "source": [
    "print bow_matrix.shape\n",
    "print words.shape\n",
    "tsvd_bow = TruncatedSVD(reducedDim)\n",
    "tsvd_bow.fit(bow_matrix)"
   ]
  },
  {
   "cell_type": "code",
   "execution_count": 80,
   "metadata": {
    "collapsed": false,
    "scrolled": true
   },
   "outputs": [
    {
     "name": "stdout",
     "output_type": "stream",
     "text": [
      "xxxx , wa , thi , payment , call , xx , account , credit , 00 , loan , bank , receiv , time , told , report\n",
      "wa , payment , thi , xx , credit , account , told , call , loan , 00 , time , receiv , pay , make , due\n",
      "xx , credit , report , account , letter , compani , lender , card , ha , inform , date , remov , file , crc , disput\n",
      "xx , payment , 00 , mortgag , month , ocwen , late , monthli , statement , due , loan , escrow , amount , date , properti\n",
      "00 , credit , payment , report , statement , 15 , due , boa , amount , made , fee , late , balanc , paid , date\n",
      "loan , mortgag , report , ocwen , credit , chase , thi , modif , file , payment , servic , ha , state , bureau , compani\n",
      "thi , payment , bank , mortgag , account , complaint , america , statement , month , check , 00 , late , compani , fee , amount\n",
      "account , loan , wa , servic , mortgag , close , ocwen , properti , escrow , check , contact , request , document , save , due\n",
      "payment , account , becaus , chase , report , mortgag , ocwen , record , state , call , make , delet , late , cb , releas\n",
      "call , credit , time , report , chase , compani , number , debt , month , payment , work , collect , phone , thi , loan\n"
     ]
    }
   ],
   "source": [
    "for i in range(reducedDim):\n",
    "    row = tsvd_bow.components_[i,:]\n",
    "    argsorted = np.argsort(row)[::-1][:15]\n",
    "    scores = row[argsorted]\n",
    "    top_words = words[argsorted]\n",
    "    print ' , '.join(top_words)"
   ]
  },
  {
   "cell_type": "code",
   "execution_count": 60,
   "metadata": {
    "collapsed": false
   },
   "outputs": [],
   "source": [
    "ref_docs = list(get_doc_name_iterator(tokens_mini, indiv_tokens=False, stemmed=False, condense_form_letters=True))\n"
   ]
  },
  {
   "cell_type": "code",
   "execution_count": 61,
   "metadata": {
    "collapsed": false
   },
   "outputs": [
    {
     "name": "stdout",
     "output_type": "stream",
     "text": [
      "(497, 10)\n",
      "(10, 4890)\n"
     ]
    }
   ],
   "source": [
    "U = tsvd_bow.transform(bow_matrix)\n",
    "V = tsvd_bow.components_\n",
    "\n",
    "print U.shape\n",
    "print V.shape"
   ]
  },
  {
   "cell_type": "code",
   "execution_count": 62,
   "metadata": {
    "collapsed": false
   },
   "outputs": [
    {
     "name": "stdout",
     "output_type": "stream",
     "text": [
      "0\n",
      "Topic words: \n",
      "xxxx , xx , credit , 00 , account , payment , bank , loan , told , mortgage , payments , time , received , letter , called , information , call , report , debt , back\n",
      "Example 1: \n",
      "(u'1297691', u\"from approximately xxxx xxxx - xxxx xxxx , i was appointed as an elder and treasurer of an xxxx ; xxxx xxxx upon appointment the leaders informally changed the name of the group from xxxx to xxxx the xxxx leaders were begrudgingly appointed by the owner of the property where meetings were held the owner , xxxx xxxx , transferred associated expenses for the building/property out of his name xxxx such expense was xxxx xxxx xxxx , which provided fuel for the facility without my knowledge or consent , this account was apparently placed into my personal name i had been informed that the bills would be sent to my personal address , as the treasurer of xxxx , due to the lack of a mailing address after several disagreements with xxxx xxxx , regarding xxxx and legal matters , i separated from the xxxx organization and from xxxx xxxx , the owner of the property immediately upon my separation , the appointed leadership dissolved and xxxx dissolved , reverting back to xxxx immediately , after paying all outstanding bills , the financial matters were abandoned back to the original property owner ; xxxx xxxx however , after contacting xxxx xxxx xxxx to inform them to stop sending the group 's bills to my address , i was advised that xxxx xxxx needed to approve this change and voluntarily assume responsibility of the account during several telephone contacts with representatives from xxxx xxxx xxxx i disputed this , explaining that i was the treasurer of the xxxx group and was not personally responsible for the account confused about how xxxx xxxx xxxx personally attached me to the account , having just filed for bankruptcy in xxxx ( xxxx ) , and fearing that xxxx xxxx would not voluntarily resume responsibility over the account , i informed xxxx xxxx xxxx to close the account i was informed that i needed to provide a written letter to xxxx xxxx xxxx , explaining that i was no longer responsible for the account i wrote the letter and provided them with a copy in xxxx xxxx the letter informed xxxx xxxx xxxx that i was no longer handling the financial matters of xxxx , that the group dissolved and would resort back to xxxx , and that the original account holder , xxxx xxxx would resume control over all financial matters i included xxxx xxxx 's name and contact information , for several months i never heard back from xxxx xxxx xxxx however , when xxxx xxxx xxxx contacted me several months later they advised that i was personally responsible for a balance of over { $ 400 00 } that was incurred over a period of time after xxxx xxxx i disputed this with their agency on several occasions , during multiple harassing phone calls , in which they attempted to collect the debt finally , possibly in xxxx xxxx , a representative from xxxx xxxx advised that he would administer a recorded , xxxx , conference call with myself and with xxxx xxxx to clear up the dispute during the course of this recorded conversation , xxxx xxxx assumed responsibility for the debt and any future debt incurred on the account several months passed again and xxxx xxxx did not make any attempts to contact me , again leading me to believe the dispute was resolved on xxxx last occasion , possibly in the xxxx or xxxx of xxxx , xxxx xxxx xxxx again contacted me , attempting to collect the debt i refused to provide them with any information , referenced the xxxx conference call with xxxx xxxx , and adamantly disputed the debt xxxx xxxx xxxx has not contacted me regarding this debt , since that time i have had no contact with xxxx xxxx since the xxxx conference call in xxxx however , yesterday , a debt collection agency representing xxxx xxxx xxxx sent a letter , again attempting to collect this debt \")\n",
      "Example 2: \n",
      "(u'1295955', u\"background : in xxxx of xx/xx/xxxx i began falling behind on payments to xxxx xxxx a substantial balance had accumulated because of recent large unforeseen expenses - vehicle repairs which resulted from our truck being rear-ended the insurance company unexpectedly denied claims for over xxxx in repairs we met minimum payments in xxxx xxxx - { $ 3100 00 } , xxxx xxxx - { $ 3100 00 } , xxxx xxxx - { $ 2300 00 } , xxxx xxxx - xxxx , xxxx xxxx - { $ 1100 00 } and xxxx { $ 4300 00 } we were able to meet these obligations only by closing a small ira and borrowing the debt situation began to grow serious the xxxx minimum payment was { $ 3100 00 } and i was unable to pay it we paid { $ 500 00 } there were multiple phone calls and conversations with xxxx xxxx in xxxx i wrote to xxxx requesting that they grant a xxxx month grace period since i had been a customer for over 20 years and had just become eligible for social security benefits ( and would therefore have additional income ) the xxxx ss benefit check would arrive the last week in xxxx and i promised substantial monthly payments from then until the balance was satisfied i sent a payment of { $ 1000 00 } on xxxx xxxx and , at the end of the xxxx cycle , xxxx xxxx closed the account and sent it to collection phone calls from a collection agency began xxxx xxxx , xxxx and repeated multiple times each day they were all from `` unavailable '' or `` restricted '' numbers my xxxx conversation with a representative at `` xxxx '' was xxxx xxxx i sent a letter ( certified return receipt ) requesting that they ceased calling me and send validation / documentation of the debt i did not receive this documentation so i sent a xxxx request xxxx days later a short while later ( xxxx xxxx ) i began receiving multiple phone calls from another collection agency , xxxx xxxx xxxx after numerous phone calls ( with a call center in xxxx ) and another letter requesting validation of the debt , i did finally receive the documentation on xxxx xxxx , xx/xx/xxxx i then called xxxx and spoke with a representative called , xxxx we hammered out a verbal agreement a `` settlement '' was not possible because of our limited financial resources i needed to make payments they wanted at least 10 % down i wanted to put { $ 500 00 } down the end result was an agreement of { $ 890 00 } down ( which xxxx stated he was able to achieve under `` hardship `` conditions ) and monthly payments of { $ 430 00 } for 36 months except the agreement had to be in xxxx parts - 24 months was as long as they would go we would need a xxxx agreement for 12 months for the remaining amount there would be no additional interest on what i owed i stated that i would send in my own payments and ( on legal advice ) not provide a bank account number and allow them to take automatic payments i also wanted our agreement in writing before i would send in the xxxx payment i requested information on the `` clean slate '' offer xxxx was making xxxx directed me to call the credit reporting number at xxxx xxxx since xxxx could not determine how xxxx would report this account xxxx told me that a letter outlining what we discussed would be sent to me and i should call him when i received it this was on xxxx xxxx , xxxx i waited a week ( xxxx xxxx ) and emailed my mail service to forward mail the packet arrived on xxxx xxxx but there was no letter from xxxx i almost immediately began receiving collection calls from another xxxx # when i returned the calls i had to start all over with a different office /division of xxxx i reiterated the terms of the agreement that had been achieved i dealt with xxxx people at this new office ( xxxx xxxx , then xxxx and finally the `` supervisor '' xxxx xxxx they stated that no letter would be sent until i gave them access to my bank account and they had taken the first payment this was after ( cont )\")\n",
      " \n",
      "1\n",
      "Topic words: \n",
      "xx , credit , account , payment , 00 , due , loan , mortgage , information , card , late , pay , company , report , payments , time , received , told , made , statement\n",
      "Example 1: \n",
      "(u'1292682', u\"in xx/xx/xxxx , while discussing an unrelated business mater with a current lender , i was made aware that an account , i did not authorize or initiate , had me listed as a cosigner i immediately notified the lender that i was a victim of identity fraud and requested to see the information they had on file in turn , i checked my credit reports , confirmed the presence of the fraudulent account , and contacted each of the xxxx ( xxxx ) credit reporting companies and disputed the information at varying dates in xx/xx/xxxx , each of the credit reporting companies ( crcs ) reported that the account was confirmed by the lender to date , the fraudulent information remains on my credit file and [ neither ] crc has ever notated my credit profile about the account being disputed after [ several ] additional telephonic requests to the lender between xx/xx/xxxx to xx/xx/xxxx , the lender mailed me a copy of the loan origination documents along with its internal id theft package i immediately filed a law enforcement report ( ler ) with my local sheriff xxxx office and returned the original package and supporting documentation to the lender in xx/xx/xxxx the supporting documentation included a copy of the lender 's loan origination document , my ler , drivers license , social security card , and hand writing samples in xx/xx/xxxx , i was notified by a potential employer that i was deemed unsuitable due the presence of delinquent financial information on my credit report in that same notification , i was provided a copy of my combined credit report which still contained the fraudulent account on each of the crc 's reports i began researching laws and learned about the fcra and the ftc after learning that the combination of an ler and ftc identity theft affidavit ( ita ) produce an identity theft report ( idr ) , i filed an ita on the ftc 's website in turn , i sent [ via certified mail ] ftc 's crc-template letters and supporting documentation to each of the xxxx credit reporting companies requesting that the fraudulent account be blocked , removed , and that a extended fraud alert be placed on my credit file as per the fcra the supporting documentation for each submission of ftc 's crc-template letter included a copy of the lender 's loan origination document ; my credit report , drivers license , social security card , and hand writing samples ; as well as fcra section 611 according to xxxx tracking , the crcs received their certified letters on xx/xx/xxxx and xx/xx/xxxx [ xxxx ] , respectively to date , each crc has placed an extended fraud alert but has [ not ] blocked the fraudulent account information from my respective credit profile [ or ] contacted me declining my request to block the fraudulent information in fact , xxxx crc will not allow me to order a credit report directly and advised ( via telephone ) that my idr was not sufficient but would not provide its justification method in making that determination subsequently , and , respectively , i have ordered additional credit reports which indicate each crc 's non-compliance the fcra 's imposed time limits to their credit , xxxx crcs have listed the fraudulent account as disputed/under investigation additionally , i sent [ for the xxxx time , via certified mail ] ftc 's lender-template letter and supporting documentation to the lender requesting that the lender block , absolve me of responsibility , and stop inaccurately furnishing the fraudulent account information to the crcs the supporting documentation to my submission of ftc 's lender-template letter included a copy of the lender 's loan origination document and id theft affidavit ; my idr , credit report , drivers license , social security card , and hand writing samples ; as well as ftc 's notice to furnishers ) according to xxxx tracking , the lender received its certified letter on xx/xx/xxxx to date , the lender has not made any contact with me xxxx : ftc xxxx # xxxx\")\n",
      "Example 2: \n",
      "(u'1305553', u'on xx/xx/xxxx i responded to a pre-selected application for an american express credit card i received a letter from american express dated xx/xx/xxxx that informed me that my application could not approved as american express had cancelled previous accounts the letter further indicated that i was welcome to submit another application at a later date the cancelled account to which american express referenced was in xx/xx/xxxx and since that time i have paid all of my credit obligations on time and have a fico credit score of xxxx i responded with a letter dated xx/xx/xxxx in which i requested a copy of the company credit card policy that pertains to the period of time after an account has been cancelled that a new application may be favorably considered american express replied with a form letter dated xx/xx/xxxx that failed to address my request for the company credit review policy the letter simply re-stated the reason my application was declined i responded with a letter dated xx/xx/xxxx specifically requesting a copy of the american express credit review policy that pertains to the period of time after an account has been cancelled that a new application may be favorably considered i wanted to ascertain that the credit decision on my application was made in conformance with an established credit review policy and not an arbitrary , capricious decision based on age or race discrimination the last letter from american express dated xx/xx/xxxx again failed to address my request for a copy of the company credit review policy that pertains to the period of time after an account has been cancelled that a new application may be favorably considered i will accept the american express decision to decline my application if the credit review policy indicates the period of time after an account has been cancelled is eleven years or more , since my account was cancelled ten years and ten months ago the credit review process should be the same for all applicants regardless of age , race or religion and without providing a copy of the credit review policy it is impossible to ascertain that the policy is being uniformly and equitably applied american express in every letter indicated that a new application could be submitted at a later date but without indicating the period of time a new application could be submitted to receive favorable consideration the company may be using this as a method of surreptitious discrimination ')\n",
      " \n",
      "2\n",
      "Topic words: \n",
      "xx , account , xxxx , lender , information , letter , express , ftc , fraudulent , borrower , copy , social , crc , security , reporting , closed , report , disputed , experian , supporting\n",
      "Example 1: \n",
      "(u'1292682', u\"in xx/xx/xxxx , while discussing an unrelated business mater with a current lender , i was made aware that an account , i did not authorize or initiate , had me listed as a cosigner i immediately notified the lender that i was a victim of identity fraud and requested to see the information they had on file in turn , i checked my credit reports , confirmed the presence of the fraudulent account , and contacted each of the xxxx ( xxxx ) credit reporting companies and disputed the information at varying dates in xx/xx/xxxx , each of the credit reporting companies ( crcs ) reported that the account was confirmed by the lender to date , the fraudulent information remains on my credit file and [ neither ] crc has ever notated my credit profile about the account being disputed after [ several ] additional telephonic requests to the lender between xx/xx/xxxx to xx/xx/xxxx , the lender mailed me a copy of the loan origination documents along with its internal id theft package i immediately filed a law enforcement report ( ler ) with my local sheriff xxxx office and returned the original package and supporting documentation to the lender in xx/xx/xxxx the supporting documentation included a copy of the lender 's loan origination document , my ler , drivers license , social security card , and hand writing samples in xx/xx/xxxx , i was notified by a potential employer that i was deemed unsuitable due the presence of delinquent financial information on my credit report in that same notification , i was provided a copy of my combined credit report which still contained the fraudulent account on each of the crc 's reports i began researching laws and learned about the fcra and the ftc after learning that the combination of an ler and ftc identity theft affidavit ( ita ) produce an identity theft report ( idr ) , i filed an ita on the ftc 's website in turn , i sent [ via certified mail ] ftc 's crc-template letters and supporting documentation to each of the xxxx credit reporting companies requesting that the fraudulent account be blocked , removed , and that a extended fraud alert be placed on my credit file as per the fcra the supporting documentation for each submission of ftc 's crc-template letter included a copy of the lender 's loan origination document ; my credit report , drivers license , social security card , and hand writing samples ; as well as fcra section 611 according to xxxx tracking , the crcs received their certified letters on xx/xx/xxxx and xx/xx/xxxx [ xxxx ] , respectively to date , each crc has placed an extended fraud alert but has [ not ] blocked the fraudulent account information from my respective credit profile [ or ] contacted me declining my request to block the fraudulent information in fact , xxxx crc will not allow me to order a credit report directly and advised ( via telephone ) that my idr was not sufficient but would not provide its justification method in making that determination subsequently , and , respectively , i have ordered additional credit reports which indicate each crc 's non-compliance the fcra 's imposed time limits to their credit , xxxx crcs have listed the fraudulent account as disputed/under investigation additionally , i sent [ for the xxxx time , via certified mail ] ftc 's lender-template letter and supporting documentation to the lender requesting that the lender block , absolve me of responsibility , and stop inaccurately furnishing the fraudulent account information to the crcs the supporting documentation to my submission of ftc 's lender-template letter included a copy of the lender 's loan origination document and id theft affidavit ; my idr , credit report , drivers license , social security card , and hand writing samples ; as well as ftc 's notice to furnishers ) according to xxxx tracking , the lender received its certified letter on xx/xx/xxxx to date , the lender has not made any contact with me xxxx : ftc xxxx # xxxx\")\n",
      "Example 2: \n",
      "(u'1298057', u\"compass bank had the xxxx lien on my property located at xxxx xxxx xxxx xxxx xxxx xxxx , xxxx , az xxxx the property went to foreclosure in xx/xx/xxxx xx/xx/xxxx xxxx , xx/xx/xxxx was the last reported date on my credit report revealing i was xxxx days past due however , it was reporting that i had a monhtly obligation of { $ 23000 00 } this was reflecting in my monthly dti at the present time i disputed this information through experian in late xx/xx/xxxx xx/xx/xxxx when my credit score was xxxx i have been rebuilding my credit since the foreclosure and imagined that this erroneously large monthly obligation 's removal would only help me instead , compass bank eliminated the monthly obligation and updated the status to a charge off as of xx/xx/xxxx xx/xx/xxxx i believe that compass bank exercised neglience in fair reporting in xx/xx/xxxx xx/xx/xxxx and xx/xx/xxxx and now i 'm being penalized again , for an event that i was already penalized for this is duplicative penalization and all my rebuilding appears to be futile as my credit score in one month has dropped significantly , down to a xxxx this is worse than it ever was during foreclosure proceedings and post-foreclosure reporting please help this is negligence on compass bank 's end and i should not have to be burdened again \")\n",
      " \n",
      "3\n",
      "Topic words: \n",
      "credit , report , account , card , reporting , debt , accounts , cb , information , file , remove , letter , lender , nct , bureaus , equifax , experian , aes , dispute , american\n",
      "Example 1: \n",
      "(u'1318699', u\"i have file several complaints with equifax to remove the xxxx student loans accounts for national collegiate trust ( nct ) because they have reached the 7 years mark of being on my credit report each time they wrote back stating that after the investigation of the xxxx accounts belong to me ; but my request stated that my dispute was that the accounts has been on my report for 7 years from its xxxx delinquency not if the accounts belong to me ! i feel like this is a tactic of theirs by giving me the run around to be able to report debt pass the legal law requirement i have attached the letter of dispute i sent to xxxx xxxx/xxxx/xxxx , the tracking number for proof of delivery , xxxx response credit file number confirmation # xxxx date xxxx/xxxx/xxxx of the investigation to my request of dispute , xxxx file number xxxx xxxx response to my question regarding how long information remains on file , xxxx xxxx credit file number xxxx showing the xxxx delinquent date as of xxxx for all xxxx accounts for xxxx , xxxx xxxx credit report number xxxx showing the xxxx delinquent date as of xxxx for all xxxx accounts for nct , xxxx xxxx credit report number xxxx showing the xxxx delinquent date as of xxxx for all xxxx accounts for nct and a xxxx letter head from nct please have the national collegiate trust ( nct ) remove from my credit report , for they have served there serve years from the xxxx date of delinquency on my credit report i believe nct has an account with equifax and that is the reason they are giving me a hard time ( the run around ) with removing the xxxx accounts nct is reporting on my credit report i sent the same request to xxxx and xxxx and the accounts was removed this company has broken many law and has learn how to avoid cfpb by not being a register company they report on my credit report as national collegiate trust on xxxx and aes/nct on xxxx , american education services ( aes ) on xxxx but is registered as american education services my complaints with cfpb in xxxx stated they could not investigate national collegiate trust because the company could not be found and i can not file a complaint that has xxxx names ( ie nct/aes ) it 's my belief that nct is practicing fraudulent tactics and really need to be investigated fully !\")\n",
      "Example 2: \n",
      "(u'1292682', u\"in xx/xx/xxxx , while discussing an unrelated business mater with a current lender , i was made aware that an account , i did not authorize or initiate , had me listed as a cosigner i immediately notified the lender that i was a victim of identity fraud and requested to see the information they had on file in turn , i checked my credit reports , confirmed the presence of the fraudulent account , and contacted each of the xxxx ( xxxx ) credit reporting companies and disputed the information at varying dates in xx/xx/xxxx , each of the credit reporting companies ( crcs ) reported that the account was confirmed by the lender to date , the fraudulent information remains on my credit file and [ neither ] crc has ever notated my credit profile about the account being disputed after [ several ] additional telephonic requests to the lender between xx/xx/xxxx to xx/xx/xxxx , the lender mailed me a copy of the loan origination documents along with its internal id theft package i immediately filed a law enforcement report ( ler ) with my local sheriff xxxx office and returned the original package and supporting documentation to the lender in xx/xx/xxxx the supporting documentation included a copy of the lender 's loan origination document , my ler , drivers license , social security card , and hand writing samples in xx/xx/xxxx , i was notified by a potential employer that i was deemed unsuitable due the presence of delinquent financial information on my credit report in that same notification , i was provided a copy of my combined credit report which still contained the fraudulent account on each of the crc 's reports i began researching laws and learned about the fcra and the ftc after learning that the combination of an ler and ftc identity theft affidavit ( ita ) produce an identity theft report ( idr ) , i filed an ita on the ftc 's website in turn , i sent [ via certified mail ] ftc 's crc-template letters and supporting documentation to each of the xxxx credit reporting companies requesting that the fraudulent account be blocked , removed , and that a extended fraud alert be placed on my credit file as per the fcra the supporting documentation for each submission of ftc 's crc-template letter included a copy of the lender 's loan origination document ; my credit report , drivers license , social security card , and hand writing samples ; as well as fcra section 611 according to xxxx tracking , the crcs received their certified letters on xx/xx/xxxx and xx/xx/xxxx [ xxxx ] , respectively to date , each crc has placed an extended fraud alert but has [ not ] blocked the fraudulent account information from my respective credit profile [ or ] contacted me declining my request to block the fraudulent information in fact , xxxx crc will not allow me to order a credit report directly and advised ( via telephone ) that my idr was not sufficient but would not provide its justification method in making that determination subsequently , and , respectively , i have ordered additional credit reports which indicate each crc 's non-compliance the fcra 's imposed time limits to their credit , xxxx crcs have listed the fraudulent account as disputed/under investigation additionally , i sent [ for the xxxx time , via certified mail ] ftc 's lender-template letter and supporting documentation to the lender requesting that the lender block , absolve me of responsibility , and stop inaccurately furnishing the fraudulent account information to the crcs the supporting documentation to my submission of ftc 's lender-template letter included a copy of the lender 's loan origination document and id theft affidavit ; my idr , credit report , drivers license , social security card , and hand writing samples ; as well as ftc 's notice to furnishers ) according to xxxx tracking , the lender received its certified letter on xx/xx/xxxx to date , the lender has not made any contact with me xxxx : ftc xxxx # xxxx\")\n",
      " \n",
      "4\n",
      "Topic words: \n",
      "loan , mortgage , credit , told , report , ocwen , chase , modification , time , information , home , payments , documents , state , company , cb , letter , release , reporting , bureaus\n",
      "Example 1: \n",
      "(u'1305793', u\"this complaint relates to my mortgage , serviced by j p morgan chase ( `` chase '' ) in xxxx , i refinanced my home with washington mutual , and the loan was later serviced by chase my mortgage payments were timely paid from the refinance date through the end of xxxx in xxxx , i filed a petition for chapter xxxx bankruptcy , and included my mortgage the bankruptcy was discharged in xxxx of xxxx i did not re-affirm my legal obligation to pay the loan in xxxx of xxxx , a lawsuit was filed against chase on my behalf to defend a foreclosure the state court ordered a temporary restraining order chase removed the matter to a federal district ; this matter was later dismissed following the dismissal , chase again attempted to foreclose on my home on xxxx xxxx , xxxx , i filed a complaint with the consumer financial protection bureau against chase regarding their mortgage practices this foreclosure was cancelled pending chase 's investigation on xxxx xxxx , xxxx , chase sent me a loan modification mortgage assistance package in a letter dated xxxx xxxx , xxxx , chase approved me for a trial payment plan xxxx xxxx xxxx , xxxx xxxx and xxxx xxxx ) in xxxx xxxx , chase offered to modify my loan and i accepted the offer the purpose for the agreement was to modify my original loan with chase the agreement remains in effect during a recent application for consumer credit , i was informed that my modified loan and related payments do not appear on my credit report on xxxx xxxx , xxxx , i called chase to inquire about their failure to report the modification and monthly mortgage payments chase representatives responded that it appeared that i did not `` reaffirm '' the loan during the bankruptcy proceeding , and as such they have no duty to report same to the credit bureaus because and i have no legal obligation to them chase 's response is faulty , as the modification is a contractual obligation between me and chase that is legally binding , and is the same as reaffirming mortgage debt the agreement contains various loan provisions , including enforceability , obligations , maturity dates , and payment schedules such provisions clearly relate to xxxx parties financial and /or legal obligations to comply with the terms of the agreement it is unconscionable for chase to state that the agreement modifying my mortgage loan and the payments are not reportable to credit bureaus , because i allegedly did not `` reaffirm '' my debt it is clear that despite numerous lawsuits against chase , its practices continue to be anti-consumer my request is for chase to immediately notify each credit agency ( xxxx , xxxx and xxxx xxxx ) of the modified loan and report all payments under the trial payment plan and modification agreement these payments are from xxxx xxxx to the last payment \")\n",
      "Example 2: \n",
      "(u'1308444', u\"my daughter attended xxxx in xxxx , nc upon her graduation she immediately began getting a call from citi , corp she assumed it was fro a credit card that she had gotten when she first attended college and told them that she dd not have a student loan with citi i was immediately contacted and told to pay the loan i told them my daughter did not have any private student loans and i had not co-signed for any student loan other than completing her fafsa they immediately began telling me that i needed to pay the loan or they would have my daughter investigated for fraud and imprisoned i requested confirmation that i had signed for this loan and was refused on the grounds that `` it was not my loan '' i contacted her school and was told that they had no documentation of this loan or a disbursement to my daughter shortly after the loan was placed on my credit report and my score dropped significantly i was contacted again at my place of employment and when i asked how they obtained my work number , the csr told me they were a credit issuing company and they could obtain any financial and employment information out about anyone i again asked for verification that i signed the loan and was refused i also asked that the loan be deferred since i was a full-time student and was told `` not possible since the loan was not mine '' so i asked that it be removed from my credit report and the request was also refused with the csr saying they could always have my daughter investigated fro fraud and imprisoned if xxxx of us did not pay finally after they defaulted the loan on my credit report and refused to send me any documentation , i contacted them about repayment they told me they would be glad to send me the documentation once the loan was paid i paid the loan in full and later received a xxxx page loan application that contained neither a signature for myself or my daughter instead , the signature line for both has typed `` signed electronically '' the school certification section is completely blank except fot the school id code and there are no signatures from any school official on the application , or any other information form the university additionally , the original loan request was for { $ 10000 00 } , which far exceeded what it would have cost my daughter to attend this public university as she was a commuter and stayed with family members and at that time they `` issued '' this loan , my annual salary was only { $ 30000 00 } so there was no way i could have afforded a { $ 10000 00 } loan my daughter also received fafsa and xxxx during this time and a scholarship through my place of employment so this loan would have been completely unnecessary \")\n",
      " \n",
      "5\n",
      "Topic words: \n",
      "account , bank , told , call , phone , america , called , information , closed , number , money , husband , checking , asked , savings , mortgage , service , beneficiary , back , certificate\n",
      "Example 1: \n",
      "(u'1294857', u\"xx/xx/xxxx : opened a checking and savings account with suntrust checks received and used were erroneously printed with my savings account information this caused numerous overdrafts , returned checks and extreme mental stress as well as confusion when i brought it up to the branch manager she apologized and credited all charges back she reordered checks reflecting the correct information , however , for some reason it was several months before these checks arrived this caused , again , more stress , inconvience and money # xxxx due to a possible security breach on my checking account , i went to my branch in xx/xx/xxxx i closed the xxxx checking account and savings account and reopened a new one i did not open a new savings account , however , apparently the person helping me did open one i was printed starter checks while waiting for the real ones it took xxxx phone calls and 8 weeks before the checks arrived in the mail in the meantime , i used the information on my starter checks to set up my automatic payments ( credit card , car insurance , electric etc ) well , imagine what happened my starter checks had been printed with my savings account information ! while trying to straighten out this repeated error i 1 : dealt with an extremely xxxx , young , know it all teller who spoke to me in an incredibly condescending tone 2 : had my car insurance dropped and when i called to explain the issue and to restart my policy i was hit with 3 : a $ 20+ increase in my monthly rate due to the 9 days lapse in coverage , even though it was not my fault i did not even have any access to the savings account to make deposits 4 : suffered negative and costly consequences from my power company , cell phone provider and credit card company 5 : i finally went to the bank on friday xxxx xxxx to close my checking account and the savings account and found out the bank had been pulling funds from my savings to cover my checking i never asked for this service i had no access via deposit slips or through my atm debit card to this savings account so therefore was unable to make deposits to the savings account i did not know i had 6 : the mobile app would not work for me once i got the new checking account so i deleted it web banking was seemingly constantly undergoing updates and changes so it was very hard to access my account on line 7 : this is absolutely insane ! today i recieved a letter from suntrust stating that my checking account had been closed and charged off with a negative balance this letter , dated xxxx xxxx , actually is referring to the checking account i closed in xxxx ! when the account was closed it was in good standing i never recieved any calls or mail from the bank regarding this until today so i am now lead to believe the account was in fact never fully closed and some sort of inner bank activity was happening with it against my stated wishes and knowledge how is this legal or even possible ? ? when i was at the bank on friday , as well as the phone call with the very rude young man , i was told by both of them that they could see the old account and the date it had been closed by me with the help of a `` manager '' at the branch yet , i recieve a letter on xx/xx/xxxx that suntrust closed the account and is now demanding { $ 100 00 } in fees this shows a very sneaky and dishonest business model and perhaps even theft , not to mention extremely poor customer service regarding not just xxxx but xxxx accounts , leaving me with having to clean up the mess with not just suntrust but also the businesses i use that deduct money , in good faith , from my account my credit rating may be negatively affected , as well as relationships with my creditors and service providers i believed yesterday i was finished with this stressful and costly experience now i am at wits end and have lost all faith in the banking industry \")\n",
      "Example 2: \n",
      "(u'1316654', u\"i have problem with the bank checking account of my husband he passed away in xxxx xxxx , xxxx he has this account only under his name , and the montly bank statement only shows his name , but i am the beneficiary of his account he oppened this bank account around xxxx or xxxx in texas him always worked in differents state because he did xxxx work in xxxx in xxxx xxxx i came from xxxx , but we married in xxxx we moved together in diferents states but in xxxx , we came to xxxx and he add me as his beneficiary he does n't have more children , only xxxx with me xxxx is xxxx years old and the other xxxx in xxxx years old we visited the location of bank of america in xxxx xxxx xxxx my husband explain to the worker than he need my name in the account only as a beneficiary the worker from this bank added my name , i gave my personal documents , passport and social security number but he never gave us any document to bring at home that is comun in the bank they normaly do n't provide any document to the owner or to the beneficiary the information only stay in the system in the bank my husband was 100 % sure , because he knew if he passed away my name is in the system as a beneficiary the worker say if he some day died , you do n't need to aprove with any court document only with his dead certificate we never did something else like a will , because we did the same with other banks when my husband passed away i went to the office of bank of america xxxx xxxx xxxx xxxx , xxxx xxxx , xxxx ( xxxx ) xxxx xxxx/xxxx/xxxx around xxxx i did explain about my husband passed away xxxx of the ladies in the desk she said , `` you are the beneficiary of the occount i can see your name the only thing we need from you is the dead certificate of your husband account please call this number and you can fax the dead certificate she gave me the phone number and i call the phone number of the bank of america , the same i visited , because they speak xxxx , but they connect the phone line with other company or department/ area of bank of america the name is xxxx xxxx xxxx this men told me he is the xxxx who works with the people when some xxxx xxxx , he has to register the information and i explain my situation and he said , to confirm your information give your full name and home address , and i gave this information by phone and he said you are the same i have in my sistem the only thing i need is your husband dead certificate , send me the fax to xxxx , i send this fax , i called to the phone number of bank of amercia xxxx to know if they have the dead certificate , but they said we do n't have it i decided to visit the office of bank of america in xxxx xxxx xxxx xxxx , xxxx xxxx , xxxx ( xxxx ) xxxx the manager talk with me , i said i need to send this dead certificate by fax she said i am no able to see your name as a beneficiary because your husband only have the account under his name and in the bank statement is only under his name i said , i know that because benefciaries or ppo , do n't show the name in the bank statement but i know i am the beneficiary , i spoke with xxxx employes before you and they said my name it is in the system , i said please give the name of the men , the xxxx i spoke xxxx , you have all my phone call in the system and you can see that , and she said his name is not here only i have the information about your call and i have the name of the men who help you with the traslation but i do n't have the other name i felt so bad because i knew she was hiding me information she call by phone some one else maybe xxxx of the employes xxxx , and the manager of the bank in xxxx xxxx said , you need too show me a document for the court which include you are the owner of your husband account i said i do n't need that , because i am the beneficiary of my husband account \")\n",
      " \n",
      "6\n",
      "Topic words: \n",
      "told , xx , cb , call , card , lien , called , ca , certificate , back , release , bank , state , asked , phone , withdrawal , records , time , delete , county\n",
      "Example 1: \n",
      "(u'1305902', u\"i had a state tax lien on my cr the state withdrew the liability and i was sent a letter to verify the withdrawal as well as a court filed certificate of release i was assured by the state , once i sent that to all xxxx bureaus , the cb agency would delete the tax lien from my cr 's i did as required results ? nothing deleted ! equifax told me that a `` certificate of release '' is not a withdrawal , and the attached withdrawal letter is not valid ( a formal ca ftb letter that said i was not liable for debt and the balance formally reporting should be deleted as balance was { $ 0 00 } by withdrawal ) i told equifax it was supporting evidence with the filed certificate of release that was an official copy on record ! they told me the tax lien stays and they verified it with the county i called the county recorder 's office and they told me , `` no they do not verify with us because we do not report to any bureaus '' the state xxxx also does not report to any credit bureau so how do they get our public records ? the bureaus get the info by sending 3rd parties out to county recorder 's offices and collect all public records filed in the court ! that is how the bureaus get public records more importantly the county also told me , if they verified info on me , they would have seen there is a release and it should have been deleted from cr after 2 hours arguing my case with equifax , i was angry and frustrated i told them , i gave you official state , federal and local govt documents stating the lien is released i gave you supporting evidence now , you ( equifax ) give me the law that says the lien stays on my report with a withdrawal of liability and a release of lien ! they told me `` if you paid   '' i said , i did not pay because it was withdrawn ! they told me , they would file another dispute and 'verify with the county ' i told them , that is useless because you actually do n't verify because if you did , you would know that state of ca only has xxxx legal certificate they file with the courts for withdrawal : the certificate of release yes , i verified this for the xxxx time with ca xxxx which they told me that is the only certificate they have ever sent out and they did not understand what the cb 's are doing ! they also mentioned that they send them out daily but they do n't delete from records after the certificate of release has been sent out and it is n't the county who is has to delete it ( because the court recorder 's office is like a library only archiving what has been filed in court ; they can not delete anything from credit bureaus if they wanted to ) the only one who can do that with all supporting evidence of proof   is the credit bureaus ! let me also mention , that equifax has outsourced their phone agents in the xxxx and that 'supervisor ' could not comprehend putting all evidence together to prove my dispute ! when i forced he state to me the xxxx code section law that says a withdrawal and certificate of release is not valid proof for deletion ? he stumbled over ambiguous robot wording that is printed on the back of a dispute results page basically , he tried to push me off the phone and told me i had to call the county ( again ) i said no ! transfer me to higher managment person in the xxxx ! i was transferred to a gal in xxxx georgia again , she told me same thing even after i told her `` my fed , state and local govts all said you have to delete that off my records and they stand behind me   what do you got ? '' she also could not show me law that says it stays and i told me , `` ma'am , i will re-open dispute and verify with county '' in the words of the county : `` that is just circular thinking ! tell them to delete it '' in the words of ca state xxxx : `` we only file a certificate of release ; the bureau has to delete the lien off your cb '' in the meantime , cb is over 90 days for correction !\")\n",
      "Example 2: \n",
      "(u'1326843', u\"i am so angry about the xxxx major credit bureaus ( the `` cb '' ) , and their investigations are bogus ! each agency said they `` verified '' with xxxx xxxx xxxx public records ( in xxxx , ca ) each xxxx referred me to xxxx xxxx , `` to have them remove it off my cb '' i called xxxx recorder 's office and i was told , cb 's do not verify with them , they send out a third party to 'look over ' records on the internet in no way does xxxx xxxx have time nor the funding to pay their staff to look up each cb investigation for verification i was also told they are like a library that archives court filings only , so they do not have anything to do with reporting tax liens or other public records to cb 's ! they also made it very clear they do not request deletes from cb 's either and that if the cb really did their investigations , they would see that ca xxxx only files a certificate of lien release which has been since the xxxx has opened it doors ! they told me to demand the xxxx remove that public record because they are reporting in error ! further , i had verified this with the ca xxxx they do not report to the cb 's either they verified with their legal department that the only proof of evidence i needed to give the cb 's was stamped copy of filed docket # that is on the certificate of lien release because that is all the cb xxxx files for withdrawals ! the ca xxxx does not , and never has issued a certificate of withdrawal they told me cb 's had only used the xxxx of lien release to delete withdrawals on cr 's ! also , even though i did not have to submit the ca xxxx withdrawal letter on ca xxxx letterhead , this proof of supporting evidence should have been more than enough to have each cb delete that ca xxxx tax lien from my credit reports ! i have been round and round on this with xxxx , with xxxx xxxx and experian ! just this week , xxxx xxxx deleted this tax lien on xxxx/xxxx/xxxx and the next day xxxx xxxx , xxxx they reinserted it and then , added more years it would remain on my records ! experian did the same thing and they increased the time to xxxx ! xxxx did same- reinserted i have since filed several disputes with each cb since this tax lien was withdrawn by ca xxxx in xxxx xxxx i have been diligent of each cb status investigation , and i have provided all xxxx bureaus the official certificate of lien release copy with court filing stamp and docket number i also included an official letter from the , ca xxxx xxxx xxxx , that stated my tax lien was withdrawn and i was not liable for debt ; this was supporting evidence of proof ! i want your agency to know that the cb 's ( all xxxx ) are fighting with consumer 's either by phone , online , or mail they leave incorrect public records on their reports and in turn they send us high apr % credit card offers which they probably get kickbacks from those banks ( thru their sponsoring 'free credit scores ' websites ) they send out bogus third party verification teams to 'verify ' public records , but they do not check with the issuing state ( for tax lien withdrawals ) too investigate further , and they will not seek fact of information from the state regarding what a certificate of lien release means ! because as stated by the ca xxxx and xxxx , they do not report and they do not request deletes from cb 's this is where the cb 's are telling consumer 's to go request deletions from -- - xxxx xxxx and the state ; but they tell us , `` you have the certificate of release and your withdrawal letter stating you are no liable for debt ! `` i know i am not the only consumer that is having issue with these credit bureaus i can only think that since the irs issues tax lien withdrawal certificates under the `` federal fresh start program '' , the cb 's are demanding the same from each state ! every state is different ! in the meantime , your american consumers are being screwed by all xxxx credit bureaus !\")\n",
      " \n",
      "7\n",
      "Topic words: \n",
      "bank , credit , america , chase , complaint , mortgage , report , late , trust , accounts , cfpb , loan , husband , payments , made , years , reporting , beneficiary , acceptance , 15\n",
      "Example 1: \n",
      "(u'1306424', u\"after speaking with cfpb supervisor xxxx xxxx on xxxx xxxx , xxxx , and learning that , at the request of xxxx this agency has forwarded my previous complaints # 's xxxx and xxxx to bank of america in error , i have re-filed this complaint and will continue to do so until xxxx responds and addresses the issues therein as required by federal law because of the false statements made by xxxx in an attempt to obfuscate the issues in this complaint , i truly appreciate the cfpb 's efforts and completely understand how such an error could be made at the duplicitous request of xxxx as such , i am formally requesting that a cfpb intake supervisor and/or cfpb attorney review this complaint in its entirety to confirm that , as the new assignee listed on the assignment of mortgage attached hereto , xxxx is in fact the party that must provide written disclosure under tila 15 u s c 1641 ( g ) and 12 cfr 1026 subpart e 1026 39 not bank of america the dodd-frank wall street reform and consumer protection act granted the consumer financial protection bureau ( `` cfpb '' ) authority to supervise and enforce compliance with tila and its implementing regulations with respect to the entities under the cfpb 's jurisdiction see , 12 usc 5481 ( 12 ) ( o ) ,5514 ( b ) - ( c ) and 5515 ( b ) - ( c ) the xxxx has continually violated tila 15 u s c 1641 ( g ) and new york trust law as illustrated herein there is one party the subject of this complaint ; xxxx ( `` xxxx '' ) allegedly acting as trustee for alternative loan trust xxxx , mortgage pass-through certificates , series xxxx ( the `` trust '' ) this complaint is against xxxx for its violations of tila 15 u s c 1641 ( g ) and new york xxxx laws based upon its actions as alleged trustee of the aforementioned trust and only xxxx can provide a relevant response please do not re-direct this complaint to bank of america bank of america is not a party to this complaint and not the servicerbank of america has already provided written notice on xxxx xxxx , xxxx , that it is not the servicer of the loan the subject of this complaint stating in part , `` this confirms that the loan was transferred on xxxx xxxx , xxxx , to the new servicer for servicing effective xxxx xxxx , xxxx , more than xxxx year ago   based upon the foregoing , no further response by bank of america to the letter is required at this time '' xxxx attached , xxxx xxxx , xxxx xxxx from bank of america , n a at xxxx ( even if bank of america was the servicer , this complaint is still properly directed to xxxx xxxx xxxx as the new assignee of the mortgage having a duty to provide written disclosure detailing the transfer of the mortgage loan to the homeowner under xxxx xxxx xxxx xxxx xxxx xxxx xxxx and xxxx cfr xxxx subpart xxxx xxxx ) the central issues of this complaint are as follows:1 as alleged assignee of my mortgage , xxxx has failed and continues its failure to provide written notice of new creditor required under tila 15 u s c 1641 ( g ) and 12 cfr 1026 subpart e 1026 39 mortgage transfer disclosures 2 xxxx as trustee attempted on xxxx xxxx , xxxx , to transfer my mortgage loan into the trust more than six ( 6 ) years after the closing date of xxxx xxxx , xxxx , in clear violation of new york trust law and in violation of the trust itself via false statements to this agency , xxxx will likely continue its attempts of having this agency re-route this complaint to bank of america thank you in advance for having a cfpb supervisor and/or cfpb attorney review this complaint and confirm that xxxx must respond on its own behalf as required by federal law because it is the entity listed as the new assignee on the assignment of mortgage the full complaint is attached in pdf form \")\n",
      "Example 2: \n",
      "(u'1297972', u\"the following summarizes my issue with pnc banks policy , and their refusal to properly rectify the consequence of their mistake on xxxx xxxx , 2014 i placed a currency exchange order for xxxx xxxx 's at the pnc bank located at xxxx xxxx xxxx in xxxx xxxx , mi this transaction is xxxx # xxxx subsequently , i picked up the money and engaged in a conversation with a bank associate about returning unused monies at that time i was told that i could return paper money , but that they would not accept coin on xxxx xxxx i went to the bank to return xxxx paper xxxx for approx $ 35-40 u s at that time the bank associate made a telephone call to determine the exchange rate on the currency after that call she informed me that the bank had a policy of not exchanging xxxx with a value of less than { $ 100 00 } u s in response , i told this associate that i inquired about returning xxxx when i picked it up , and no one told me about this requirement i certainly could have brought back the required amount if i had known about it , and i told her that the bank was negligent in not informing me about this i felt that they made an error , and want me to suffer the consequences of their oversight the bank associate told me that she would discuss the matter with bank management , and someone would get back with me on xxxx xxxx i received a call from someone at the bank who identified himself as `` xxxx '' he told me that he checked out my exchange issue , and found that pnc had a policy of not exchanging xxxx with a value of less than { $ 100 00 } u s , and they could not make exceptions to this policy i asked him why the bank did not inform me about this when i inquired he apologized , and it appeared to me that local bank personnel did n't know about this policy when i asked xxxx about the reason for this requirement he stated , `` efficiency 's of scale '' i pointed out to xxxx that the bank had a xxxx opportunity to make this requirement known to me in written communications , but missed that chance also as a result of my order , i was given a written record of the transaction entitled `` pnc foreign exchange services '' this document should have defined the return exchange requirement , but failed to do so i told xxxx that i viewed this failure as additional negligence on the part of the bank xxxx was firm in his position that the bank would not exchange the xxxx for me , and he suggested that i try to get it exchanged at the airport i told xxxx in response that i have been a member of pnc and it 's acquired banks for almost 50 years , and i would like to believe i could count on my bank for this service \")\n",
      " \n",
      "8\n",
      "Topic words: \n",
      "payment , late , make , call , calls , system , chase , payments , mohela , matter , made , online , month , phone , time , rep , advised , past , urgent , pending\n",
      "Example 1: \n",
      "(u'1306381', u\"mohela called me on xxxx/xxxx/15 , i told the rep i was at work he then advised me it was an urgent matter i was concerned so i asked my team lead to give me about xxxx minutes because i had an urgent phone call i then verified my information and he then informed me i was past due on my loan ( only xxxx days ) but the payment was pending in their system because i always make my payment through their system i had to tell that rep the payment was already made and that he should have looked at the payment screen before he asked me to make a payment this incident has happened before when a payment was made but not yet posted i was only xxxx days late , i started a new job and my paydays are different from my previous employer , i have never been xxxx days late with them and this matter was not an urgent matter because the payment was already and i felt like they wasted my time , the co-signer and was upset because she states no one told her a payment was pending in the system it seems to me that mohela wants to misled and employ scare tactics , the payment was made for the xxxx and the money came out of my account on the xxxx ( it was showing as pending in my checking acct on the xxxx ) mohela has did this to me before , i had to tell the rep to look into the system because i made a payment , i also heard a call my mom recorded of mohela and not one did he tell her a payment was pending in the system , he asked her to make a payment she was upset with me because they implied she needed to make a payment when i already her one was made but not yet posted , nowhere on that call was that information given i actually looked online on mohela 's online page and the payment was posted on the day i said it would i also spoke with a consumer rights attorney and he advised me that mohela should make sure they are looking to see if a payment is scheduled online before they ask someone to make another payment and the rep misrepresented the call by saying it was an urgent matter ; it was not an important issue because the payment was made and it was only xxxx days past due i was nowhere near the xxxx day mark so i am not sure they discussed anything about credit reporting for this payment because it sounded stupid to say such a thing a supervisor states they have to call when a payment is late ( this is their job ) but make sure you are actually looking to see if a payment was made before you stay anything stupid like asking to make another payment i was also advised by an attorney that mohela should not be telling people it is an urgent matter because it was not in this case and nothing about a past due bill is an emergency it was utterly deceptive and this is not the first time this has happened , i would prefer to get manual calls not computer calls on my cell phone but they told me i had to endure these stupid calls the rep asked me if i had another phone call number to use , i said no then i was told i would have to endure these useless calls especially since a payment was already made but not posted , it was pending in the system and i wish people at mohela would take the time to look at the online screen because they wasted my time because i was at work and i had to stop what i was doing to deal with this matter \")\n",
      "Example 2: \n",
      "(u'1318319', u\"in xxxx 2013 , i was unable to pay the mortgage i had a bad renter that i had to evict , and the situation drained our savings to keep paying the mortgage we have xxxx small children , and we ca n't choose chase over our children i called chase bank to let them know the situation and to see if i could make a few smaller payments to get caught up again i had also called them prior to the missed payment letting them know i may not be able to pay if we could n't get a renter in place in time they said they could n't help unless i was 90 days late and would n't even talk to me about any options after i missed the xxxx payment , i hired an attorney to help at this point , chase told us that they would not issue any late fees or report any late payments to the credit agencies they honored that for a few months , then the late fees started and so did the reporting to the credit agencies they keep reporting that i 'm 30 days late with each payment , but there has only been one month that i was late because i did n't have the money to pay it i 'm not asking to have that payment forgiven , i just wanted to work out an option where i could afford to pay the late payment back over a few months we were able to get a renter in place to cover the xxxx payment , and we have n't missed another payment since i work at a financial institution , and these practices by chases are putting my job in jeopardy all i wanted was to be able to work out a small payment plan to get caught up , and now i may have to sue chase in order to make them do what they said they would do , which is to waive the late fees and not report any late payments to the credit agencies i have been fighting this battle for a year and a half because chase continues to use bully tactics to bully customers in to doing things the way chase wants them done , not the legal way to have them done if i lose my job over chase 's practices , i will take them to court and sue them over this it seems that chase would rather you miss xxxx payments in a row in order to start a foreclosure process seems like a way to make extra money by bullying customers in to foreclosure \")\n",
      " \n",
      "9\n",
      "Topic words: \n",
      "cb , bank , payment , lien , ocwen , certificate , tax , release , ca , state , america , statement , records , withdrawal , bureaus , mortgage , property , complaint , county , delete\n",
      "Example 1: \n",
      "(u'1326843', u\"i am so angry about the xxxx major credit bureaus ( the `` cb '' ) , and their investigations are bogus ! each agency said they `` verified '' with xxxx xxxx xxxx public records ( in xxxx , ca ) each xxxx referred me to xxxx xxxx , `` to have them remove it off my cb '' i called xxxx recorder 's office and i was told , cb 's do not verify with them , they send out a third party to 'look over ' records on the internet in no way does xxxx xxxx have time nor the funding to pay their staff to look up each cb investigation for verification i was also told they are like a library that archives court filings only , so they do not have anything to do with reporting tax liens or other public records to cb 's ! they also made it very clear they do not request deletes from cb 's either and that if the cb really did their investigations , they would see that ca xxxx only files a certificate of lien release which has been since the xxxx has opened it doors ! they told me to demand the xxxx remove that public record because they are reporting in error ! further , i had verified this with the ca xxxx they do not report to the cb 's either they verified with their legal department that the only proof of evidence i needed to give the cb 's was stamped copy of filed docket # that is on the certificate of lien release because that is all the cb xxxx files for withdrawals ! the ca xxxx does not , and never has issued a certificate of withdrawal they told me cb 's had only used the xxxx of lien release to delete withdrawals on cr 's ! also , even though i did not have to submit the ca xxxx withdrawal letter on ca xxxx letterhead , this proof of supporting evidence should have been more than enough to have each cb delete that ca xxxx tax lien from my credit reports ! i have been round and round on this with xxxx , with xxxx xxxx and experian ! just this week , xxxx xxxx deleted this tax lien on xxxx/xxxx/xxxx and the next day xxxx xxxx , xxxx they reinserted it and then , added more years it would remain on my records ! experian did the same thing and they increased the time to xxxx ! xxxx did same- reinserted i have since filed several disputes with each cb since this tax lien was withdrawn by ca xxxx in xxxx xxxx i have been diligent of each cb status investigation , and i have provided all xxxx bureaus the official certificate of lien release copy with court filing stamp and docket number i also included an official letter from the , ca xxxx xxxx xxxx , that stated my tax lien was withdrawn and i was not liable for debt ; this was supporting evidence of proof ! i want your agency to know that the cb 's ( all xxxx ) are fighting with consumer 's either by phone , online , or mail they leave incorrect public records on their reports and in turn they send us high apr % credit card offers which they probably get kickbacks from those banks ( thru their sponsoring 'free credit scores ' websites ) they send out bogus third party verification teams to 'verify ' public records , but they do not check with the issuing state ( for tax lien withdrawals ) too investigate further , and they will not seek fact of information from the state regarding what a certificate of lien release means ! because as stated by the ca xxxx and xxxx , they do not report and they do not request deletes from cb 's this is where the cb 's are telling consumer 's to go request deletions from -- - xxxx xxxx and the state ; but they tell us , `` you have the certificate of release and your withdrawal letter stating you are no liable for debt ! `` i know i am not the only consumer that is having issue with these credit bureaus i can only think that since the irs issues tax lien withdrawal certificates under the `` federal fresh start program '' , the cb 's are demanding the same from each state ! every state is different ! in the meantime , your american consumers are being screwed by all xxxx credit bureaus !\")\n",
      "Example 2: \n",
      "(u'1305902', u\"i had a state tax lien on my cr the state withdrew the liability and i was sent a letter to verify the withdrawal as well as a court filed certificate of release i was assured by the state , once i sent that to all xxxx bureaus , the cb agency would delete the tax lien from my cr 's i did as required results ? nothing deleted ! equifax told me that a `` certificate of release '' is not a withdrawal , and the attached withdrawal letter is not valid ( a formal ca ftb letter that said i was not liable for debt and the balance formally reporting should be deleted as balance was { $ 0 00 } by withdrawal ) i told equifax it was supporting evidence with the filed certificate of release that was an official copy on record ! they told me the tax lien stays and they verified it with the county i called the county recorder 's office and they told me , `` no they do not verify with us because we do not report to any bureaus '' the state xxxx also does not report to any credit bureau so how do they get our public records ? the bureaus get the info by sending 3rd parties out to county recorder 's offices and collect all public records filed in the court ! that is how the bureaus get public records more importantly the county also told me , if they verified info on me , they would have seen there is a release and it should have been deleted from cr after 2 hours arguing my case with equifax , i was angry and frustrated i told them , i gave you official state , federal and local govt documents stating the lien is released i gave you supporting evidence now , you ( equifax ) give me the law that says the lien stays on my report with a withdrawal of liability and a release of lien ! they told me `` if you paid   '' i said , i did not pay because it was withdrawn ! they told me , they would file another dispute and 'verify with the county ' i told them , that is useless because you actually do n't verify because if you did , you would know that state of ca only has xxxx legal certificate they file with the courts for withdrawal : the certificate of release yes , i verified this for the xxxx time with ca xxxx which they told me that is the only certificate they have ever sent out and they did not understand what the cb 's are doing ! they also mentioned that they send them out daily but they do n't delete from records after the certificate of release has been sent out and it is n't the county who is has to delete it ( because the court recorder 's office is like a library only archiving what has been filed in court ; they can not delete anything from credit bureaus if they wanted to ) the only one who can do that with all supporting evidence of proof   is the credit bureaus ! let me also mention , that equifax has outsourced their phone agents in the xxxx and that 'supervisor ' could not comprehend putting all evidence together to prove my dispute ! when i forced he state to me the xxxx code section law that says a withdrawal and certificate of release is not valid proof for deletion ? he stumbled over ambiguous robot wording that is printed on the back of a dispute results page basically , he tried to push me off the phone and told me i had to call the county ( again ) i said no ! transfer me to higher managment person in the xxxx ! i was transferred to a gal in xxxx georgia again , she told me same thing even after i told her `` my fed , state and local govts all said you have to delete that off my records and they stand behind me   what do you got ? '' she also could not show me law that says it stays and i told me , `` ma'am , i will re-open dispute and verify with county '' in the words of the county : `` that is just circular thinking ! tell them to delete it '' in the words of ca state xxxx : `` we only file a certificate of release ; the bureau has to delete the lien off your cb '' in the meantime , cb is over 90 days for correction !\")\n",
      " \n"
     ]
    }
   ],
   "source": [
    "for i, row in enumerate(U.T):\n",
    "    argsort = np.argsort(row)[::-1]\n",
    "    topic_word_sorted = np.argsort(V[i,:])[::-1]\n",
    "    print i\n",
    "    print 'Topic words: '\n",
    "    print ' , '.join(words[topic_word_sorted][:20])\n",
    "    print 'Example 1: '\n",
    "    print ref_docs[argsort[0]]\n",
    "    print 'Example 2: '\n",
    "    print ref_docs[argsort[1]]\n",
    "    print ' '"
   ]
  },
  {
   "cell_type": "code",
   "execution_count": 63,
   "metadata": {
    "collapsed": true
   },
   "outputs": [],
   "source": [
    "#TFIDF attempt:"
   ]
  },
  {
   "cell_type": "code",
   "execution_count": 64,
   "metadata": {
    "collapsed": false
   },
   "outputs": [],
   "source": [
    "sklearn_doc_iterator = get_doc_iterator(tokens_mini, indiv_tokens=False, stemmed=False, condense_form_letters=True)\n",
    "#tfidf_vectorizer = text.TfidfVectorizer(stop_words=stopwords)\n",
    "tfidf_vectorizer = text.TfidfVectorizer(min_df=2, stop_words = 'english',\n",
    "strip_accents = 'unicode', lowercase=True, ngram_range=(1,2),\n",
    "norm='l2', smooth_idf=True, sublinear_tf=False, use_idf=True)\n",
    "\n",
    "tfidf_matrix = tfidf_vectorizer.fit_transform(sklearn_doc_iterator)\n",
    "words_tfidf = np.array(tfidf_vectorizer.get_feature_names())"
   ]
  },
  {
   "cell_type": "code",
   "execution_count": 65,
   "metadata": {
    "collapsed": false
   },
   "outputs": [
    {
     "name": "stdout",
     "output_type": "stream",
     "text": [
      "(10, 5957)\n",
      "(497, 10)\n"
     ]
    }
   ],
   "source": [
    "tsvd_tfidf = TruncatedSVD(reducedDim)\n",
    "tsvd_tfidf.fit(tfidf_matrix)\n",
    "V_tf = tsvd_tfidf.components_\n",
    "U_tf = tsvd_tfidf.transform(tfidf_matrix)\n",
    "print V_tf.shape\n",
    "print U_tf.shape"
   ]
  },
  {
   "cell_type": "code",
   "execution_count": 86,
   "metadata": {
    "collapsed": false
   },
   "outputs": [
    {
     "name": "stdout",
     "output_type": "stream",
     "text": [
      "0\n",
      "xxxx , xxxx xxxx , xx , credit , account , 00 , xx xx , bank , xx xxxx , payment , loan , report , mortgage , told , debt\n",
      "1\n",
      "xx , xx xx , xx xxxx , credit , xxxx xx , mortgage , account , payment , late , payments , card , bank , monthly , company , report\n",
      "2\n",
      "credit , report , credit report , account , debt , company , reporting , card , paid , information , sent , told , credit card , removed , letter\n",
      "3\n",
      "report , credit , credit report , xxxx xxxx , xx , reporting , debt , xxxx , equifax , experian , xx xx , xx xxxx , collection , transunion , dispute\n",
      "4\n",
      "account , bank , card , america , bank america , 00 , credit , balance , accounts , closed , credit card , fee , opened , checking , check\n",
      "5\n",
      "debt , number , phone , called , calls , calling , card , account , collection , agency , phone number , collect , said , collection agency , recovery\n",
      "6\n",
      "bank , identity theft , victim identity , identity , theft , certified , fraudulent , victim , america , bank america , sent , attached , account , letter , information\n",
      "7\n",
      "bank , account , debt , america , bank america , mortgage , letter , modification , foreclosure , collect , ocwen , proof , sale , check , removed\n",
      "8\n",
      "00 , payment , paid , debt , balance , 50 , 50 00 , statement , month , letter , late , xxxx 2015 , insurance , sent , contract\n",
      "9\n",
      "chase , debt , payment , collection , late , agency , reporting , payments , collection agency , calls , credit , bank , reported , recovery , late fees\n"
     ]
    }
   ],
   "source": [
    "topic_words={}\n",
    "for i in range(reducedDim):\n",
    "    row = tsvd_tfidf.components_[i,:]\n",
    "    argsorted = np.argsort(row)[::-1][:15]\n",
    "    scores = row[argsorted]\n",
    "    top_words = words_tfidf[argsorted]\n",
    "    topic_words[i]=' , '.join(top_words)\n",
    "for i in topic_words:\n",
    "    print i\n",
    "    print topic_words[i]"
   ]
  },
  {
   "cell_type": "code",
   "execution_count": 67,
   "metadata": {
    "collapsed": false
   },
   "outputs": [
    {
     "name": "stdout",
     "output_type": "stream",
     "text": [
      "(497, 5957)\n",
      "(5957,)\n",
      "(10, 5957)\n",
      "[ 0.09899865  0.00073097  0.00277033 ...,  0.00131856  0.00254517\n",
      "  0.00192086]\n"
     ]
    }
   ],
   "source": [
    "print tfidf_matrix.shape\n",
    "print words_tfidf.shape\n",
    "print tsvd_tfidf.components_.shape\n",
    "print tsvd_tfidf.components_[0]"
   ]
  },
  {
   "cell_type": "code",
   "execution_count": 68,
   "metadata": {
    "collapsed": false,
    "scrolled": true
   },
   "outputs": [
    {
     "name": "stdout",
     "output_type": "stream",
     "text": [
      "0\n",
      "Topic words: \n",
      "xxxx , xxxx xxxx , xx , credit , account , 00 , xx xx , bank , xx xxxx , payment , loan , report , mortgage , told , debt , did , payments , received , time , called\n",
      "Example 1: \n",
      "(u'1297691', u\"from approximately xxxx xxxx - xxxx xxxx , i was appointed as an elder and treasurer of an xxxx ; xxxx xxxx upon appointment the leaders informally changed the name of the group from xxxx to xxxx the xxxx leaders were begrudgingly appointed by the owner of the property where meetings were held the owner , xxxx xxxx , transferred associated expenses for the building/property out of his name xxxx such expense was xxxx xxxx xxxx , which provided fuel for the facility without my knowledge or consent , this account was apparently placed into my personal name i had been informed that the bills would be sent to my personal address , as the treasurer of xxxx , due to the lack of a mailing address after several disagreements with xxxx xxxx , regarding xxxx and legal matters , i separated from the xxxx organization and from xxxx xxxx , the owner of the property immediately upon my separation , the appointed leadership dissolved and xxxx dissolved , reverting back to xxxx immediately , after paying all outstanding bills , the financial matters were abandoned back to the original property owner ; xxxx xxxx however , after contacting xxxx xxxx xxxx to inform them to stop sending the group 's bills to my address , i was advised that xxxx xxxx needed to approve this change and voluntarily assume responsibility of the account during several telephone contacts with representatives from xxxx xxxx xxxx i disputed this , explaining that i was the treasurer of the xxxx group and was not personally responsible for the account confused about how xxxx xxxx xxxx personally attached me to the account , having just filed for bankruptcy in xxxx ( xxxx ) , and fearing that xxxx xxxx would not voluntarily resume responsibility over the account , i informed xxxx xxxx xxxx to close the account i was informed that i needed to provide a written letter to xxxx xxxx xxxx , explaining that i was no longer responsible for the account i wrote the letter and provided them with a copy in xxxx xxxx the letter informed xxxx xxxx xxxx that i was no longer handling the financial matters of xxxx , that the group dissolved and would resort back to xxxx , and that the original account holder , xxxx xxxx would resume control over all financial matters i included xxxx xxxx 's name and contact information , for several months i never heard back from xxxx xxxx xxxx however , when xxxx xxxx xxxx contacted me several months later they advised that i was personally responsible for a balance of over { $ 400 00 } that was incurred over a period of time after xxxx xxxx i disputed this with their agency on several occasions , during multiple harassing phone calls , in which they attempted to collect the debt finally , possibly in xxxx xxxx , a representative from xxxx xxxx advised that he would administer a recorded , xxxx , conference call with myself and with xxxx xxxx to clear up the dispute during the course of this recorded conversation , xxxx xxxx assumed responsibility for the debt and any future debt incurred on the account several months passed again and xxxx xxxx did not make any attempts to contact me , again leading me to believe the dispute was resolved on xxxx last occasion , possibly in the xxxx or xxxx of xxxx , xxxx xxxx xxxx again contacted me , attempting to collect the debt i refused to provide them with any information , referenced the xxxx conference call with xxxx xxxx , and adamantly disputed the debt xxxx xxxx xxxx has not contacted me regarding this debt , since that time i have had no contact with xxxx xxxx since the xxxx conference call in xxxx however , yesterday , a debt collection agency representing xxxx xxxx xxxx sent a letter , again attempting to collect this debt \")\n",
      "Example 2: \n",
      "(u'1295955', u\"background : in xxxx of xx/xx/xxxx i began falling behind on payments to xxxx xxxx a substantial balance had accumulated because of recent large unforeseen expenses - vehicle repairs which resulted from our truck being rear-ended the insurance company unexpectedly denied claims for over xxxx in repairs we met minimum payments in xxxx xxxx - { $ 3100 00 } , xxxx xxxx - { $ 3100 00 } , xxxx xxxx - { $ 2300 00 } , xxxx xxxx - xxxx , xxxx xxxx - { $ 1100 00 } and xxxx { $ 4300 00 } we were able to meet these obligations only by closing a small ira and borrowing the debt situation began to grow serious the xxxx minimum payment was { $ 3100 00 } and i was unable to pay it we paid { $ 500 00 } there were multiple phone calls and conversations with xxxx xxxx in xxxx i wrote to xxxx requesting that they grant a xxxx month grace period since i had been a customer for over 20 years and had just become eligible for social security benefits ( and would therefore have additional income ) the xxxx ss benefit check would arrive the last week in xxxx and i promised substantial monthly payments from then until the balance was satisfied i sent a payment of { $ 1000 00 } on xxxx xxxx and , at the end of the xxxx cycle , xxxx xxxx closed the account and sent it to collection phone calls from a collection agency began xxxx xxxx , xxxx and repeated multiple times each day they were all from `` unavailable '' or `` restricted '' numbers my xxxx conversation with a representative at `` xxxx '' was xxxx xxxx i sent a letter ( certified return receipt ) requesting that they ceased calling me and send validation / documentation of the debt i did not receive this documentation so i sent a xxxx request xxxx days later a short while later ( xxxx xxxx ) i began receiving multiple phone calls from another collection agency , xxxx xxxx xxxx after numerous phone calls ( with a call center in xxxx ) and another letter requesting validation of the debt , i did finally receive the documentation on xxxx xxxx , xx/xx/xxxx i then called xxxx and spoke with a representative called , xxxx we hammered out a verbal agreement a `` settlement '' was not possible because of our limited financial resources i needed to make payments they wanted at least 10 % down i wanted to put { $ 500 00 } down the end result was an agreement of { $ 890 00 } down ( which xxxx stated he was able to achieve under `` hardship `` conditions ) and monthly payments of { $ 430 00 } for 36 months except the agreement had to be in xxxx parts - 24 months was as long as they would go we would need a xxxx agreement for 12 months for the remaining amount there would be no additional interest on what i owed i stated that i would send in my own payments and ( on legal advice ) not provide a bank account number and allow them to take automatic payments i also wanted our agreement in writing before i would send in the xxxx payment i requested information on the `` clean slate '' offer xxxx was making xxxx directed me to call the credit reporting number at xxxx xxxx since xxxx could not determine how xxxx would report this account xxxx told me that a letter outlining what we discussed would be sent to me and i should call him when i received it this was on xxxx xxxx , xxxx i waited a week ( xxxx xxxx ) and emailed my mail service to forward mail the packet arrived on xxxx xxxx but there was no letter from xxxx i almost immediately began receiving collection calls from another xxxx # when i returned the calls i had to start all over with a different office /division of xxxx i reiterated the terms of the agreement that had been achieved i dealt with xxxx people at this new office ( xxxx xxxx , then xxxx and finally the `` supervisor '' xxxx xxxx they stated that no letter would be sent until i gave them access to my bank account and they had taken the first payment this was after ( cont )\")\n",
      " \n",
      "1\n",
      "Topic words: \n",
      "xx , xx xx , xx xxxx , credit , xxxx xx , mortgage , account , payment , late , payments , card , bank , monthly , company , report , year , reporting , credit report , month , sent\n",
      "Example 1: \n",
      "(u'1298057', u\"compass bank had the xxxx lien on my property located at xxxx xxxx xxxx xxxx xxxx xxxx , xxxx , az xxxx the property went to foreclosure in xx/xx/xxxx xx/xx/xxxx xxxx , xx/xx/xxxx was the last reported date on my credit report revealing i was xxxx days past due however , it was reporting that i had a monhtly obligation of { $ 23000 00 } this was reflecting in my monthly dti at the present time i disputed this information through experian in late xx/xx/xxxx xx/xx/xxxx when my credit score was xxxx i have been rebuilding my credit since the foreclosure and imagined that this erroneously large monthly obligation 's removal would only help me instead , compass bank eliminated the monthly obligation and updated the status to a charge off as of xx/xx/xxxx xx/xx/xxxx i believe that compass bank exercised neglience in fair reporting in xx/xx/xxxx xx/xx/xxxx and xx/xx/xxxx and now i 'm being penalized again , for an event that i was already penalized for this is duplicative penalization and all my rebuilding appears to be futile as my credit score in one month has dropped significantly , down to a xxxx this is worse than it ever was during foreclosure proceedings and post-foreclosure reporting please help this is negligence on compass bank 's end and i should not have to be burdened again \")\n",
      "Example 2: \n",
      "(u'1307539', u\"in xx/xx/xxxx i became xxxx payment delinquent on my auto loan with usaa upon returning to work in xxxx i called and made arrangements to pay xxxx payment and portion of the past due amount until i was current in xx/xx/xxxx { $ 120 00 } was applied to late charges despite my intent and misleading statement from the representative who assured me it was their process to apply payments in this manner anyway when i realized what had happened i spoke with another representative on xx/xx/xxxx who told me this would be corrected my requesting a misapplied payment reversal once again the payment i made on xx/xx/xxxx a portion - { $ 26 00 } was applied to a late charge and the reversal that was promised did not happen after a conversation on xx/xx/xxxx in speaking with a very rude representative and her manager , they basically stated the policy is they always apply to late charge prior to allowing the consumer to pay to past and future payments i stated this was unfair and deceptive , they stated i had no recourse ; but to accept this in going through my pay history in order to allow these fees to accumulate there has to be a variation of this policy ; but they would not consider it at the end of the day applying in the manner that they claim is `` policy '' allows the bank to continue to incur fees on top of fees because it would take the consumer a lengthier time to become current \")\n",
      " \n",
      "2\n",
      "Topic words: \n",
      "credit , report , credit report , account , debt , company , reporting , card , paid , information , sent , told , credit card , removed , letter , collection , phone , proof , asked , capital\n",
      "Example 1: \n",
      "(u'1308128', u'this is not my debt ! i want this account removed from my credit report and this company to stop contacting me immediately ! this company continues to report on my credit report after i sent them a letter telling them that this account was not mine and i have no idea what it is or who it belongs to ! i asked for proof of a signed contract , i asked for a license to collect in my state , i asked for copies of all information referenced for this debt and still to date , i have not received anything but harassment from this company !')\n",
      "Example 2: \n",
      "(u'1297789', u'this company continues to report on my credit report after i sent them a letter telling them that this account was not mine and i have no idea what it is or who it belongs to ! i asked for proof of a signed contract , i asked for a license to collect in my state , i asked for copies of all information referenced for this debt and still to date , i have not received anything but harassment from this company ! this is not my debt ! i want this account removed from my credit report and this company to stop contacting me immediately !')\n",
      " \n",
      "3\n",
      "Topic words: \n",
      "report , credit , credit report , xxxx xxxx , xx , reporting , debt , xxxx , equifax , experian , xx xx , xx xxxx , collection , transunion , dispute , remove , removed , credit reporting , deleted , reported\n",
      "Example 1: \n",
      "(u'1306471', u\"xxxx xxxx xxxx xxxx is currently reporting a `` charge-off '' on my credit report , and should be deleted from my credit report because it is now exceeded the 7 year statute of limitation \")\n",
      "Example 2: \n",
      "(u'1292074', u'this is the xxxx time that i have contacted xxxx in regards to inaccurate negative information on my credit report the information being reported is erroneous first of all xxxx xxxx xxxx is not the original creditor slu care is and i sent a letter to xxxx as well as the other xxxx credit bureaus which have removed this information from my report however xxxx is refusing to do so with documentation presented by the creditor i have been dealing with this issue since xxxx to no avail the following information is their response to the dispute after being presented with a letter from the creditor that indicated a 100 % financial assistance for xxxx yr and a xxxx balance on my account with them xxxx xxxx xxxx xxxx : xxxx   outcome : updated dispute status xxxx credit report prepared forfails , xxxx xxxx report number xxxx date : xxxx xxxx , 2015 credit report toolkit : credit educationthis link opens a new browser windowknow your rightsthis link opens a new browser windowlisted below are the current disputes we have received from you results due : xxxx method : xxxx xxxx items xxxx number : xxxx   outcome : updatedplease note that certain items may not display until later because they required additional processing ')\n",
      " \n",
      "4\n",
      "Topic words: \n",
      "account , bank , card , america , bank america , 00 , credit , balance , accounts , closed , credit card , fee , opened , checking , check , account closed , charges , transaction , transfer , money\n",
      "Example 1: \n",
      "(u'1294802', u\"i went to open an account at bank of america and the lady entered in all of my information and i was denied an account and given a phone number to call , i called the number and it was bank of america 's `` risk department '' they stated that i had previously had a bank of america account and it had been closed , i informed them i had not had a bank of america account and i am a xxxx ( i am and have been dealing with it since 2009 ) and the man said that it did n't matter my police report and affidavit would make no difference and i would never be allowed to have an account with bank of america because the account opened by the xxxx had been closed when i was filing my xxxx police report the packet they gave me said that no creditor or bank could hold being a xxxx against me because it was n't me he was extremely rude and since it is illegal to hold xxxx against someone i would like something done about this it is n't my fault someone xxxx and it has been headache enough the fact that he said i exposed myself to xxxx and that alone made me too risky is extremely offensive considering my xxxx after i got robbed xxxx and the guy stole my wallet \")\n",
      "Example 2: \n",
      "(u'1316645', u'barclays bank delaware is reporting a credit card under my name with a balance of { $ 6800 00 } this account is not mine , but is being reported to xxxx xxxx shows the account was opened xxxx/xxxx/93 this account is not mine ')\n",
      " \n",
      "5\n",
      "Topic words: \n",
      "debt , number , phone , called , calls , calling , card , account , collection , agency , phone number , collect , said , collection agency , recovery , asked , company , work , told , bank\n",
      "Example 1: \n",
      "(u'1316155', u\"for the last four years , i have been receiving multiple robo-calls to my home `` attempting to collect a debt '' however it is not a debt that i personally owe the person who had this phone number before me owed many debts , and i have managed to remove myself from the list for being contacted by all the other companies/agencies that have been calling , except for xxxx i do n't even know the reason for the debt or the name of the company , but i have called them back at the number given many times most of the time i can not be connected to a real person when i call , but when i have been able to speak to a person , i have given my name and contact information and explained that the person who owes this debt is not me or anyone i know , and asked that they stop calling it has been more than a month since the last time i called , and i am still receiving phone calls from this agency their phone number is xxxx they do not give any other information in the automated message when they call \")\n",
      "Example 2: \n",
      "(u'1297662', u'portfolio recovery does not disclose who is calling or why only after looking the phone number up online did i discover that they were a collection agency they are also trying to collect on debt that is past its statute of limitations ')\n",
      " \n",
      "6\n",
      "Topic words: \n",
      "bank , identity theft , victim identity , identity , theft , certified , fraudulent , victim , america , bank america , sent , attached , account , letter , information , sent letter , certified receipt , xxxx certified , notice , tracked\n",
      "Example 1: \n",
      "(u'1292219', u\"reached out to them however , never got a response unfortunately , i was the victim of identity theft i have done everything required of me by law to dispute the fraudulent items on my credit report i sent a letter to `` flagship credit '' on xxxx via xxxx certified mail the company refuses to honor my rights under the fdcpa & the fcra as a victim of identity theft to remove the fraudulent inquiry that was submitted without my knowledge , consent and/or authorization please find attached the notice that was sent out along with the attached certified receipt information can be tracked online using referenced information thank you for you time and attention regarding the matter \")\n",
      "Example 2: \n",
      "(u'1292216', u\"i have reached out to the company however , they never responded unfortunately , i was the victim of identity theft i have done everything required of me by law to dispute the fraudulent items on my credit report i sent a letter to `` sun trust '' on xx/xx/2014 via xxxx certified mail the company refuses to honor my rights under the fdcpa & the fcra as a victim of identity theft to remove the fraudulent inquiry that was submitted without my knowledge , consent and/or authorization please find attached the notice that was sent out along with the attached certified receipt information can be tracked online using referenced information thank you for you time and attention regarding the matter \")\n",
      " \n",
      "7\n",
      "Topic words: \n",
      "bank , account , debt , america , bank america , mortgage , letter , modification , foreclosure , collect , ocwen , proof , sale , check , removed , contract , property , closed , reporting , asked\n",
      "Example 1: \n",
      "(u'1297789', u'this company continues to report on my credit report after i sent them a letter telling them that this account was not mine and i have no idea what it is or who it belongs to ! i asked for proof of a signed contract , i asked for a license to collect in my state , i asked for copies of all information referenced for this debt and still to date , i have not received anything but harassment from this company ! this is not my debt ! i want this account removed from my credit report and this company to stop contacting me immediately !')\n",
      "Example 2: \n",
      "(u'1308128', u'this is not my debt ! i want this account removed from my credit report and this company to stop contacting me immediately ! this company continues to report on my credit report after i sent them a letter telling them that this account was not mine and i have no idea what it is or who it belongs to ! i asked for proof of a signed contract , i asked for a license to collect in my state , i asked for copies of all information referenced for this debt and still to date , i have not received anything but harassment from this company !')\n",
      " \n",
      "8\n",
      "Topic words: \n",
      "00 , payment , paid , debt , balance , 50 , 50 00 , statement , month , letter , late , xxxx 2015 , insurance , sent , contract , check , received , principal , 2015 , proof\n",
      "Example 1: \n",
      "(u'1303246', u'i have had numerous problems with green tree servicing i always pay my regular payment plus an additional { $ 50 00 } each month for the principal in many cases , the principal is not posted to my account for my last payment , this company only said i paid { $ 110 00 } when in fact i paid $ xxxx also , my principal payment was not credited i have been given nothing but the runaround from this company !')\n",
      "Example 2: \n",
      "(u'1295265', u'on friday xxxx/xxxx/2015 , my check account said that check # xxxx in the amount of { $ 50 00 } was paid and that i had a balance of { $ 24 00 } therefore i assumed that the check was paid as they listed it as being paid today xxxx/xxxx/2015 my account shows as being overdrawn i was charged a fee of { $ 12 00 } and had { $ 50 00 } removed from my savings account i have been with the bank u s bank for many years and my bank has never been misleading i feel that i was misled ')\n",
      " \n",
      "9\n",
      "Topic words: \n",
      "chase , debt , payment , collection , late , agency , reporting , payments , collection agency , calls , credit , bank , reported , recovery , late fees , consumer , chase bank , loans , credit reporting , bank america\n",
      "Example 1: \n",
      "(u'1318319', u\"in xxxx 2013 , i was unable to pay the mortgage i had a bad renter that i had to evict , and the situation drained our savings to keep paying the mortgage we have xxxx small children , and we ca n't choose chase over our children i called chase bank to let them know the situation and to see if i could make a few smaller payments to get caught up again i had also called them prior to the missed payment letting them know i may not be able to pay if we could n't get a renter in place in time they said they could n't help unless i was 90 days late and would n't even talk to me about any options after i missed the xxxx payment , i hired an attorney to help at this point , chase told us that they would not issue any late fees or report any late payments to the credit agencies they honored that for a few months , then the late fees started and so did the reporting to the credit agencies they keep reporting that i 'm 30 days late with each payment , but there has only been one month that i was late because i did n't have the money to pay it i 'm not asking to have that payment forgiven , i just wanted to work out an option where i could afford to pay the late payment back over a few months we were able to get a renter in place to cover the xxxx payment , and we have n't missed another payment since i work at a financial institution , and these practices by chases are putting my job in jeopardy all i wanted was to be able to work out a small payment plan to get caught up , and now i may have to sue chase in order to make them do what they said they would do , which is to waive the late fees and not report any late payments to the credit agencies i have been fighting this battle for a year and a half because chase continues to use bully tactics to bully customers in to doing things the way chase wants them done , not the legal way to have them done if i lose my job over chase 's practices , i will take them to court and sue them over this it seems that chase would rather you miss xxxx payments in a row in order to start a foreclosure process seems like a way to make extra money by bullying customers in to foreclosure \")\n",
      "Example 2: \n",
      "(u'1305793', u\"this complaint relates to my mortgage , serviced by j p morgan chase ( `` chase '' ) in xxxx , i refinanced my home with washington mutual , and the loan was later serviced by chase my mortgage payments were timely paid from the refinance date through the end of xxxx in xxxx , i filed a petition for chapter xxxx bankruptcy , and included my mortgage the bankruptcy was discharged in xxxx of xxxx i did not re-affirm my legal obligation to pay the loan in xxxx of xxxx , a lawsuit was filed against chase on my behalf to defend a foreclosure the state court ordered a temporary restraining order chase removed the matter to a federal district ; this matter was later dismissed following the dismissal , chase again attempted to foreclose on my home on xxxx xxxx , xxxx , i filed a complaint with the consumer financial protection bureau against chase regarding their mortgage practices this foreclosure was cancelled pending chase 's investigation on xxxx xxxx , xxxx , chase sent me a loan modification mortgage assistance package in a letter dated xxxx xxxx , xxxx , chase approved me for a trial payment plan xxxx xxxx xxxx , xxxx xxxx and xxxx xxxx ) in xxxx xxxx , chase offered to modify my loan and i accepted the offer the purpose for the agreement was to modify my original loan with chase the agreement remains in effect during a recent application for consumer credit , i was informed that my modified loan and related payments do not appear on my credit report on xxxx xxxx , xxxx , i called chase to inquire about their failure to report the modification and monthly mortgage payments chase representatives responded that it appeared that i did not `` reaffirm '' the loan during the bankruptcy proceeding , and as such they have no duty to report same to the credit bureaus because and i have no legal obligation to them chase 's response is faulty , as the modification is a contractual obligation between me and chase that is legally binding , and is the same as reaffirming mortgage debt the agreement contains various loan provisions , including enforceability , obligations , maturity dates , and payment schedules such provisions clearly relate to xxxx parties financial and /or legal obligations to comply with the terms of the agreement it is unconscionable for chase to state that the agreement modifying my mortgage loan and the payments are not reportable to credit bureaus , because i allegedly did not `` reaffirm '' my debt it is clear that despite numerous lawsuits against chase , its practices continue to be anti-consumer my request is for chase to immediately notify each credit agency ( xxxx , xxxx and xxxx xxxx ) of the modified loan and report all payments under the trial payment plan and modification agreement these payments are from xxxx xxxx to the last payment \")\n",
      " \n"
     ]
    }
   ],
   "source": [
    "for i, row in enumerate(U_tf.T):\n",
    "    argsort = np.argsort(row)[::-1]\n",
    "    topic_word_sorted = np.argsort(V_tf[i,:])[::-1]\n",
    "    print i\n",
    "    print 'Topic words: '\n",
    "    print ' , '.join(words_tfidf[topic_word_sorted][:20])\n",
    "    print 'Example 1: ' #for every topic, the highest ranking document.\n",
    "    print ref_docs[argsort[0]]\n",
    "    print 'Example 2: '\n",
    "    print ref_docs[argsort[1]]\n",
    "    print ' '"
   ]
  },
  {
   "cell_type": "code",
   "execution_count": 220,
   "metadata": {
    "collapsed": false
   },
   "outputs": [],
   "source": [
    "#Form letters filtered out:\n",
    "#strategy 1: turn form letter into SINGLE data instance and place it - how to weigh it? \n",
    "#strategy 2: remove form letters altogether and return separately - but where are they located in proximity to rest?\n",
    "#strategy 3: turn form letter into its own word, and use it with all instances.  loses similarity of form letter to rest...\n",
    "#strategy 4: weaken form letter by a factor - logistic appearance, for example. \n",
    "#tried strategy 1 above. form letter weakened to single instance but is placed in space.\n"
   ]
  },
  {
   "cell_type": "code",
   "execution_count": 70,
   "metadata": {
    "collapsed": false
   },
   "outputs": [],
   "source": [
    "# #tsne_viz(mat=ww_ppmi[0], rownames=ww_ppmi[1])\n",
    "# sklearn_doc_iterator = get_doc_iterator(tokens_mini, indiv_tokens=False, stemmed=False)\n",
    "# tfidf_fortsne_vectorizer = text.TfidfVectorizer(min_df=2, stop_words = 'english',\n",
    "# strip_accents = 'unicode', lowercase=True, ngram_range=(1,2),\n",
    "# norm='l2', smooth_idf=True, sublinear_tf=False, use_idf=True)\n",
    "# X = tfidf_fortsne_vectorizer.fit_transform(sklearn_doc_iterator)\n",
    "# print X.shape\n",
    "# D = -(X * X.T).todense() # Distance matrix: dot product between tfidf vectors\n",
    "# print D.shape\n",
    "\n",
    "#http://karpathy.github.io/2014/07/02/visualizing-top-tweeps-with-t-sne-in-Javascript/\n"
   ]
  },
  {
   "cell_type": "code",
   "execution_count": 93,
   "metadata": {
    "collapsed": false
   },
   "outputs": [],
   "source": [
    "def tsne_viz(\n",
    "        mat,\n",
    "        rownames,\n",
    "        colors=None,\n",
    "        output_filename=None,\n",
    "        figheight=40,\n",
    "        figwidth=50):     \n",
    "    \"\"\"2d plot of `mat` using t-SNE, with the points labeled by `rownames`, \n",
    "    aligned with `colors` (defaults to all black).\n",
    "    \n",
    "    Parameters\n",
    "    ----------    \n",
    "    mat : 2d np.array\n",
    "        The matrix to visualize.\n",
    "        \n",
    "    rownames : list of str\n",
    "        Names of the points to visualize.\n",
    "                \n",
    "    colors : list of colornames or None (default: None)\n",
    "        Optional list of colors for rownames. The color names just need to \n",
    "        be interpretable by matplotlib. If they are supplied, they need to \n",
    "        have the same length as rownames, or indices if that is not None. \n",
    "        If `colors=None`, then all the words are displayed in black.\n",
    "      \n",
    "    output_filename : str (default: None)\n",
    "        If not None, then the output image is written to this location. The \n",
    "        filename suffix determines the image type. If None, then \n",
    "        `plt.plot()` is called, with the behavior determined by the \n",
    "        environment.\n",
    "        \n",
    "    figheight : int (default: 40)\n",
    "        Height in display units of the output.\n",
    "            \n",
    "    figwidth : int (default: 50)\n",
    "        Width in display units of the output.\n",
    "        \n",
    "    \"\"\"\n",
    "    indices = list(range(len(rownames)))\n",
    "    # Colors:\n",
    "    if not colors:\n",
    "        colors = ['black' for i in indices]    \n",
    "    # Recommended reduction via PCA or similar:\n",
    "    n_components = 50 if mat.shape[1] >= 50 else mat.shape[1]\n",
    "    dimreduce = PCA(n_components=n_components)\n",
    "    mat = dimreduce.fit_transform(mat)\n",
    "    \n",
    "    # t-SNE:\n",
    "    tsne = TSNE(n_components=2, random_state=0)\n",
    "    np.set_printoptions(suppress=True)    \n",
    "    tsnemat = tsne.fit_transform(mat) \n",
    "   \n",
    "    # Plot values:\n",
    "    vocab = np.array(rownames)[indices]\n",
    "    xvals = tsnemat[indices, 0] \n",
    "    yvals = tsnemat[indices, 1]\n",
    "    # Plotting:\n",
    "    fig, ax = plt.subplots(nrows=1, ncols=1)\n",
    "#     fig.set_figheight(40)\n",
    "#     fig.set_figwidth(50)\n",
    "    ax.plot(xvals, yvals, marker='', linestyle='')\n",
    "    # Text labels:\n",
    "    for word, x, y, color in zip(vocab, xvals, yvals, colors):\n",
    "        ax.annotate(word, (x, y), fontsize=8, color=color)\n",
    "    # Output:\n",
    "    if output_filename:\n",
    "        plt.savefig(output_filename, bbox_inches='tight')\n",
    "    else:\n",
    "        plt.show()\n",
    "        \n",
    "    \n",
    "\n",
    "def plot_embedding(X, doc_to_topic_matrix, title=None):\n",
    "    #try tsne on clustering\n",
    "    x_min, x_max = np.min(X, 0), np.max(X, 0)\n",
    "    X = (X - x_min) / (x_max - x_min)\n",
    "\n",
    "    plt.figure()\n",
    "    ax = plt.subplot(111)\n",
    "    labels =  np.argmax(doc_to_topic_matrix, axis=1)\n",
    "    for i in range(X.shape[0]):\n",
    "        \n",
    "        plt.text(X[i, 0], X[i, 1], labels[i],\n",
    "                 fontdict={'weight': 'bold', 'size': 9})\n",
    "\n",
    "    plt.xticks([]), plt.yticks([])\n",
    "    if title is not None:\n",
    "        plt.title(title)"
   ]
  },
  {
   "cell_type": "code",
   "execution_count": 94,
   "metadata": {
    "collapsed": false
   },
   "outputs": [
    {
     "name": "stdout",
     "output_type": "stream",
     "text": [
      "(u'1290516', u'xxxx has claimed i owe them { $ 27 00 } for xxxx years despite the proof of payment i sent them : canceled check and their ownpaid invoice for { $ 27 00 } ! they continue to insist i owe them and collection agencies are after me how can i stop this harassment for a bill i already paid four years ago ?')\n"
     ]
    }
   ],
   "source": [
    "print ref_docs[0]"
   ]
  },
  {
   "cell_type": "code",
   "execution_count": 96,
   "metadata": {
    "collapsed": false
   },
   "outputs": [],
   "source": [
    "# tsne_viz(tfidf_matrix.toarray(), np.argmax(U_tf, axis=1))\n",
    "\n",
    "# tsne_viz(U_tf, np.argmax(U_tf, axis=1)) # U_tf is already reduced. \n",
    "\n",
    "rownames = np.argmax(U_tf, axis=1)#zip(np.argmax(U_tf, axis=1),[item[0] for item in ref_docs])\n",
    "dists = pdist(tfidf_matrix.toarray(),'cosine') # or U_tf toarray? no\n",
    "tsne_viz(squareform(dists), rownames)\n",
    "\n",
    "# dist_matrix=(np.dot(tfidf_matrix.toarray(), tfidf_matrix.toarray().T))\n",
    "# tsne_viz(dist_matrix, np.argmax(U_tf, axis=1))\n",
    "\n",
    "# dist_U_matrix=(np.dot(U_tf, U_tf.T))  #so I don't think this makes sense, to use affiliations towards topics. we should use raw. \n",
    "# tsne_viz(dist_U_matrix, np.argmax(U_tf, axis=1))"
   ]
  },
  {
   "cell_type": "code",
   "execution_count": null,
   "metadata": {
    "collapsed": true
   },
   "outputs": [],
   "source": [
    "###NOT REAL CODE PAST THIS POINT! MY ATTEMPTS "
   ]
  },
  {
   "cell_type": "code",
   "execution_count": 77,
   "metadata": {
    "collapsed": true
   },
   "outputs": [],
   "source": [
    "\n",
    "model = TSNE(n_components=2, random_state=0)\n",
    "np.set_printoptions(suppress=True)\n",
    "X_tsne=model.fit_transform(U) \n",
    "D_tsne = -(np.dot(X_tsne, X_tsne.T))#.todense() \n",
    "plot_embedding(D_tsne, U,\n",
    "               \"t-SNE embedding of the the comments\")\n",
    "\n",
    "plt.show()\n"
   ]
  },
  {
   "cell_type": "code",
   "execution_count": 131,
   "metadata": {
    "collapsed": true
   },
   "outputs": [],
   "source": [
    "\n",
    "model = TSNE(n_components=2, random_state=0)\n",
    "np.set_printoptions(suppress=True)\n",
    "X_tsne=model.fit_transform(bow_matrix) \n",
    "#D_tsne = -(np.dot(X_tsne, X_tsne.T))#.todense()\n",
    "plot_embedding(X_tsne, U,\n",
    "               \"t-SNE embedding of the the comments\")\n",
    "\n",
    "plt.show()\n"
   ]
  },
  {
   "cell_type": "code",
   "execution_count": 155,
   "metadata": {
    "collapsed": false
   },
   "outputs": [
    {
     "name": "stdout",
     "output_type": "stream",
     "text": [
      "(236, 1954)\n",
      "(236, 5)\n"
     ]
    }
   ],
   "source": [
    "print tfidf_matrix.shape #TFIDF matrix is not reduced, U is the reduced version!\n",
    "print U_tf.shape\n",
    "model = TSNE(n_components=2, random_state=0)\n",
    "np.set_printoptions(suppress=True)\n",
    "X_tsne=model.fit_transform(U_tf) \n",
    "D_tsne = -(np.dot(X_tsne, X_tsne.T))\n",
    "plot_embedding(D_tsne, U_tf,\n",
    "               \"t-SNE embedding of the the comments\")\n",
    "\n",
    "plt.show()\n"
   ]
  },
  {
   "cell_type": "code",
   "execution_count": 156,
   "metadata": {
    "collapsed": false
   },
   "outputs": [
    {
     "name": "stdout",
     "output_type": "stream",
     "text": [
      "(236, 1954)\n",
      "(236, 5)\n"
     ]
    }
   ],
   "source": [
    "print tfidf_matrix.shape #TFIDF matrix is not reduced, U is the reduced version!\n",
    "print U_tf.shape\n",
    "model = TSNE(n_components=2, random_state=0)\n",
    "np.set_printoptions(suppress=True)\n",
    "X_tsne=model.fit_transform(tfidf_matrix) \n",
    "#D_tsne = -(np.dot(X_tsne, X_tsne.T))\n",
    "plot_embedding(X_tsne, U_tf,\n",
    "               \"t-SNE embedding of the the comments\")\n",
    "\n",
    "plt.show()\n"
   ]
  },
  {
   "cell_type": "code",
   "execution_count": null,
   "metadata": {
    "collapsed": true
   },
   "outputs": [],
   "source": [
    "#most common words should have very little influence? tfidf scores should be evry low... figure out how this is processed?\n",
    "\n",
    "#check out gensim tut2 available transformations, try everything there. "
   ]
  },
  {
   "cell_type": "code",
   "execution_count": 43,
   "metadata": {
    "collapsed": true
   },
   "outputs": [],
   "source": [
    "#now, filter out all form letters before advancing into clustering, and present form letters as own clusters WITH similarity to another cluster. "
   ]
  },
  {
   "cell_type": "code",
   "execution_count": null,
   "metadata": {
    "collapsed": true
   },
   "outputs": [],
   "source": [
    "#continue per 229project, try larger dataset, with NER tags, with opinion tags, with negation tags... what if each doc was average of all of its words' word2vec?"
   ]
  }
 ],
 "metadata": {
  "kernelspec": {
   "display_name": "Python 2",
   "language": "python",
   "name": "python2"
  },
  "language_info": {
   "codemirror_mode": {
    "name": "ipython",
    "version": 2
   },
   "file_extension": ".py",
   "mimetype": "text/x-python",
   "name": "python",
   "nbconvert_exporter": "python",
   "pygments_lexer": "ipython2",
   "version": "2.7.9"
  }
 },
 "nbformat": 4,
 "nbformat_minor": 0
}
